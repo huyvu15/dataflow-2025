{
 "cells": [
  {
   "cell_type": "markdown",
   "id": "e59058a4",
   "metadata": {
    "papermill": {
     "duration": 0.010611,
     "end_time": "2025-02-13T18:58:15.632622",
     "exception": false,
     "start_time": "2025-02-13T18:58:15.622011",
     "status": "completed"
    },
    "tags": []
   },
   "source": [
    "# I. Importing Data"
   ]
  },
  {
   "cell_type": "code",
   "execution_count": 1,
   "id": "dd0bcc05",
   "metadata": {
    "execution": {
     "iopub.execute_input": "2025-02-13T18:58:15.653574Z",
     "iopub.status.busy": "2025-02-13T18:58:15.653311Z",
     "iopub.status.idle": "2025-02-13T18:58:17.621159Z",
     "shell.execute_reply": "2025-02-13T18:58:17.620202Z"
    },
    "papermill": {
     "duration": 1.980215,
     "end_time": "2025-02-13T18:58:17.622573",
     "exception": false,
     "start_time": "2025-02-13T18:58:15.642358",
     "status": "completed"
    },
    "tags": []
   },
   "outputs": [
    {
     "name": "stdout",
     "output_type": "stream",
     "text": [
      "Populating the interactive namespace from numpy and matplotlib\n"
     ]
    }
   ],
   "source": [
    "# Import thư viện \n",
    "import numpy as np\n",
    "import pandas as pd\n",
    "import seaborn as sns\n",
    "import matplotlib.pyplot as plt\n",
    "%matplotlib inline\n",
    "plt.rcParams['figure.figsize'] = (10, 6) \n",
    "import warnings\n",
    "warnings.simplefilter(\"ignore\")\n"
   ]
  },
  {
   "cell_type": "markdown",
   "id": "7a55ec24",
   "metadata": {
    "papermill": {
     "duration": 0.009077,
     "end_time": "2025-02-13T18:58:17.641309",
     "exception": false,
     "start_time": "2025-02-13T18:58:17.632232",
     "status": "completed"
    },
    "tags": []
   },
   "source": [
    "Chúng ta đọc riêng dữ liệu từ tháng 1 năm 2015 đến tháng 4 năm 2016 và tháng 5 năm 2016. Hơn nữa, vì df khá lớn nên chúng ta giới hạn kích thước bằng cách lấy mẫu 20% unique ID và lọc cả df với danh sách ID kết quả."
   ]
  },
  {
   "cell_type": "code",
   "execution_count": 2,
   "id": "1be3c327",
   "metadata": {
    "execution": {
     "iopub.execute_input": "2025-02-13T18:58:17.662123Z",
     "iopub.status.busy": "2025-02-13T18:58:17.661743Z",
     "iopub.status.idle": "2025-02-13T18:59:43.508267Z",
     "shell.execute_reply": "2025-02-13T18:59:43.507276Z"
    },
    "papermill": {
     "duration": 85.859244,
     "end_time": "2025-02-13T18:59:43.510025",
     "exception": false,
     "start_time": "2025-02-13T18:58:17.650781",
     "status": "completed"
    },
    "tags": []
   },
   "outputs": [],
   "source": [
    "train = pd.read_csv(\"/kaggle/input/dataflow2025-product-recommendation/SPLITDATASET/train.csv\",\n",
    "                dtype={\"sexo\":str, \"ind_nuevo\":str, \n",
    "                                 \"ult_fec_cli_1t\":str, \n",
    "                                  \"indext\":str})\n",
    "test = pd.read_csv(\"/kaggle/input/dataflow2025-product-recommendation/SPLITDATASET/test.csv\",\n",
    "                  dtype={\"sexo\":str, \"ind_nuevo\":str, \n",
    "                                 \"ult_fec_cli_1t\":str, \n",
    "                                  \"indext\":str})"
   ]
  },
  {
   "cell_type": "code",
   "execution_count": 3,
   "id": "9d9548d1",
   "metadata": {
    "execution": {
     "iopub.execute_input": "2025-02-13T18:59:43.530463Z",
     "iopub.status.busy": "2025-02-13T18:59:43.530220Z",
     "iopub.status.idle": "2025-02-13T18:59:47.328857Z",
     "shell.execute_reply": "2025-02-13T18:59:47.328176Z"
    },
    "papermill": {
     "duration": 3.809878,
     "end_time": "2025-02-13T18:59:47.330344",
     "exception": false,
     "start_time": "2025-02-13T18:59:43.520466",
     "status": "completed"
    },
    "tags": []
   },
   "outputs": [],
   "source": [
    "unique_ids = pd.Series(train[\"ncodpers\"].unique())\n",
    "train = train[train.ncodpers.isin(unique_ids)]\n",
    "test = test[test.ncodpers.isin(unique_ids)]"
   ]
  },
  {
   "cell_type": "code",
   "execution_count": 4,
   "id": "bf932779",
   "metadata": {
    "execution": {
     "iopub.execute_input": "2025-02-13T18:59:47.349963Z",
     "iopub.status.busy": "2025-02-13T18:59:47.349734Z",
     "iopub.status.idle": "2025-02-13T18:59:47.353868Z",
     "shell.execute_reply": "2025-02-13T18:59:47.352987Z"
    },
    "papermill": {
     "duration": 0.0153,
     "end_time": "2025-02-13T18:59:47.355211",
     "exception": false,
     "start_time": "2025-02-13T18:59:47.339911",
     "status": "completed"
    },
    "tags": []
   },
   "outputs": [
    {
     "name": "stdout",
     "output_type": "stream",
     "text": [
      "Độ dài của tập train: 12715856\n",
      "Độ dài của tập test: 926760\n"
     ]
    }
   ],
   "source": [
    "print(f'Độ dài của tập train: {len(train)}')\n",
    "print(f'Độ dài của tập test: {len(test)}')"
   ]
  },
  {
   "cell_type": "code",
   "execution_count": 5,
   "id": "5617d76a",
   "metadata": {
    "execution": {
     "iopub.execute_input": "2025-02-13T18:59:47.374525Z",
     "iopub.status.busy": "2025-02-13T18:59:47.374291Z",
     "iopub.status.idle": "2025-02-13T18:59:49.438944Z",
     "shell.execute_reply": "2025-02-13T18:59:49.438010Z"
    },
    "papermill": {
     "duration": 2.0763,
     "end_time": "2025-02-13T18:59:49.440697",
     "exception": false,
     "start_time": "2025-02-13T18:59:47.364397",
     "status": "completed"
    },
    "tags": []
   },
   "outputs": [],
   "source": [
    "unique_id = unique_ids.sample(frac = 0.2)   \n",
    "train = train[train.ncodpers.isin(unique_id)]\n",
    "test = test[test.ncodpers.isin(unique_id)]"
   ]
  },
  {
   "cell_type": "code",
   "execution_count": 6,
   "id": "5eddc634",
   "metadata": {
    "execution": {
     "iopub.execute_input": "2025-02-13T18:59:49.461926Z",
     "iopub.status.busy": "2025-02-13T18:59:49.461660Z",
     "iopub.status.idle": "2025-02-13T18:59:51.146934Z",
     "shell.execute_reply": "2025-02-13T18:59:51.146059Z"
    },
    "papermill": {
     "duration": 1.697425,
     "end_time": "2025-02-13T18:59:51.148393",
     "exception": false,
     "start_time": "2025-02-13T18:59:49.450968",
     "status": "completed"
    },
    "tags": []
   },
   "outputs": [
    {
     "data": {
      "text/html": [
       "<div>\n",
       "<style scoped>\n",
       "    .dataframe tbody tr th:only-of-type {\n",
       "        vertical-align: middle;\n",
       "    }\n",
       "\n",
       "    .dataframe tbody tr th {\n",
       "        vertical-align: top;\n",
       "    }\n",
       "\n",
       "    .dataframe thead th {\n",
       "        text-align: right;\n",
       "    }\n",
       "</style>\n",
       "<table border=\"1\" class=\"dataframe\">\n",
       "  <thead>\n",
       "    <tr style=\"text-align: right;\">\n",
       "      <th></th>\n",
       "      <th>ncodpers</th>\n",
       "      <th>indrel</th>\n",
       "      <th>tipodom</th>\n",
       "      <th>cod_prov</th>\n",
       "      <th>ind_actividad_cliente</th>\n",
       "      <th>renta</th>\n",
       "      <th>ind_ahor_fin_ult1</th>\n",
       "      <th>ind_aval_fin_ult1</th>\n",
       "      <th>ind_cco_fin_ult1</th>\n",
       "      <th>ind_cder_fin_ult1</th>\n",
       "      <th>...</th>\n",
       "      <th>ind_hip_fin_ult1</th>\n",
       "      <th>ind_plan_fin_ult1</th>\n",
       "      <th>ind_pres_fin_ult1</th>\n",
       "      <th>ind_reca_fin_ult1</th>\n",
       "      <th>ind_tjcr_fin_ult1</th>\n",
       "      <th>ind_valo_fin_ult1</th>\n",
       "      <th>ind_viv_fin_ult1</th>\n",
       "      <th>ind_nomina_ult1</th>\n",
       "      <th>ind_nom_pens_ult1</th>\n",
       "      <th>ind_recibo_ult1</th>\n",
       "    </tr>\n",
       "  </thead>\n",
       "  <tbody>\n",
       "    <tr>\n",
       "      <th>count</th>\n",
       "      <td>2.542161e+06</td>\n",
       "      <td>2.536657e+06</td>\n",
       "      <td>2536657.0</td>\n",
       "      <td>2.524892e+06</td>\n",
       "      <td>2.536657e+06</td>\n",
       "      <td>2.029958e+06</td>\n",
       "      <td>2.542161e+06</td>\n",
       "      <td>2.542161e+06</td>\n",
       "      <td>2.542161e+06</td>\n",
       "      <td>2.542161e+06</td>\n",
       "      <td>...</td>\n",
       "      <td>2.542161e+06</td>\n",
       "      <td>2.542161e+06</td>\n",
       "      <td>2.542161e+06</td>\n",
       "      <td>2.542161e+06</td>\n",
       "      <td>2.542161e+06</td>\n",
       "      <td>2.542161e+06</td>\n",
       "      <td>2.542161e+06</td>\n",
       "      <td>2.538835e+06</td>\n",
       "      <td>2.538835e+06</td>\n",
       "      <td>2.542161e+06</td>\n",
       "    </tr>\n",
       "    <tr>\n",
       "      <th>mean</th>\n",
       "      <td>8.304201e+05</td>\n",
       "      <td>1.178950e+00</td>\n",
       "      <td>1.0</td>\n",
       "      <td>2.661367e+01</td>\n",
       "      <td>4.615464e-01</td>\n",
       "      <td>1.338971e+05</td>\n",
       "      <td>1.199767e-04</td>\n",
       "      <td>1.888157e-05</td>\n",
       "      <td>6.596467e-01</td>\n",
       "      <td>4.000533e-04</td>\n",
       "      <td>...</td>\n",
       "      <td>5.977198e-03</td>\n",
       "      <td>9.472649e-03</td>\n",
       "      <td>2.837743e-03</td>\n",
       "      <td>5.217529e-02</td>\n",
       "      <td>4.488740e-02</td>\n",
       "      <td>2.522854e-02</td>\n",
       "      <td>3.880163e-03</td>\n",
       "      <td>5.520170e-02</td>\n",
       "      <td>5.983847e-02</td>\n",
       "      <td>1.288266e-01</td>\n",
       "    </tr>\n",
       "    <tr>\n",
       "      <th>std</th>\n",
       "      <td>4.303029e+05</td>\n",
       "      <td>4.183913e+00</td>\n",
       "      <td>0.0</td>\n",
       "      <td>1.276472e+01</td>\n",
       "      <td>4.985192e-01</td>\n",
       "      <td>2.332604e+05</td>\n",
       "      <td>1.095273e-02</td>\n",
       "      <td>4.345253e-03</td>\n",
       "      <td>4.738281e-01</td>\n",
       "      <td>1.999734e-02</td>\n",
       "      <td>...</td>\n",
       "      <td>7.708095e-02</td>\n",
       "      <td>9.686548e-02</td>\n",
       "      <td>5.319484e-02</td>\n",
       "      <td>2.223804e-01</td>\n",
       "      <td>2.070568e-01</td>\n",
       "      <td>1.568186e-01</td>\n",
       "      <td>6.217000e-02</td>\n",
       "      <td>2.283736e-01</td>\n",
       "      <td>2.371874e-01</td>\n",
       "      <td>3.350080e-01</td>\n",
       "    </tr>\n",
       "    <tr>\n",
       "      <th>min</th>\n",
       "      <td>1.589500e+04</td>\n",
       "      <td>1.000000e+00</td>\n",
       "      <td>1.0</td>\n",
       "      <td>1.000000e+00</td>\n",
       "      <td>0.000000e+00</td>\n",
       "      <td>1.471230e+03</td>\n",
       "      <td>0.000000e+00</td>\n",
       "      <td>0.000000e+00</td>\n",
       "      <td>0.000000e+00</td>\n",
       "      <td>0.000000e+00</td>\n",
       "      <td>...</td>\n",
       "      <td>0.000000e+00</td>\n",
       "      <td>0.000000e+00</td>\n",
       "      <td>0.000000e+00</td>\n",
       "      <td>0.000000e+00</td>\n",
       "      <td>0.000000e+00</td>\n",
       "      <td>0.000000e+00</td>\n",
       "      <td>0.000000e+00</td>\n",
       "      <td>0.000000e+00</td>\n",
       "      <td>0.000000e+00</td>\n",
       "      <td>0.000000e+00</td>\n",
       "    </tr>\n",
       "    <tr>\n",
       "      <th>25%</th>\n",
       "      <td>4.501420e+05</td>\n",
       "      <td>1.000000e+00</td>\n",
       "      <td>1.0</td>\n",
       "      <td>1.500000e+01</td>\n",
       "      <td>0.000000e+00</td>\n",
       "      <td>6.874623e+04</td>\n",
       "      <td>0.000000e+00</td>\n",
       "      <td>0.000000e+00</td>\n",
       "      <td>0.000000e+00</td>\n",
       "      <td>0.000000e+00</td>\n",
       "      <td>...</td>\n",
       "      <td>0.000000e+00</td>\n",
       "      <td>0.000000e+00</td>\n",
       "      <td>0.000000e+00</td>\n",
       "      <td>0.000000e+00</td>\n",
       "      <td>0.000000e+00</td>\n",
       "      <td>0.000000e+00</td>\n",
       "      <td>0.000000e+00</td>\n",
       "      <td>0.000000e+00</td>\n",
       "      <td>0.000000e+00</td>\n",
       "      <td>0.000000e+00</td>\n",
       "    </tr>\n",
       "    <tr>\n",
       "      <th>50%</th>\n",
       "      <td>9.281520e+05</td>\n",
       "      <td>1.000000e+00</td>\n",
       "      <td>1.0</td>\n",
       "      <td>2.800000e+01</td>\n",
       "      <td>0.000000e+00</td>\n",
       "      <td>1.016129e+05</td>\n",
       "      <td>0.000000e+00</td>\n",
       "      <td>0.000000e+00</td>\n",
       "      <td>1.000000e+00</td>\n",
       "      <td>0.000000e+00</td>\n",
       "      <td>...</td>\n",
       "      <td>0.000000e+00</td>\n",
       "      <td>0.000000e+00</td>\n",
       "      <td>0.000000e+00</td>\n",
       "      <td>0.000000e+00</td>\n",
       "      <td>0.000000e+00</td>\n",
       "      <td>0.000000e+00</td>\n",
       "      <td>0.000000e+00</td>\n",
       "      <td>0.000000e+00</td>\n",
       "      <td>0.000000e+00</td>\n",
       "      <td>0.000000e+00</td>\n",
       "    </tr>\n",
       "    <tr>\n",
       "      <th>75%</th>\n",
       "      <td>1.195256e+06</td>\n",
       "      <td>1.000000e+00</td>\n",
       "      <td>1.0</td>\n",
       "      <td>3.500000e+01</td>\n",
       "      <td>1.000000e+00</td>\n",
       "      <td>1.553313e+05</td>\n",
       "      <td>0.000000e+00</td>\n",
       "      <td>0.000000e+00</td>\n",
       "      <td>1.000000e+00</td>\n",
       "      <td>0.000000e+00</td>\n",
       "      <td>...</td>\n",
       "      <td>0.000000e+00</td>\n",
       "      <td>0.000000e+00</td>\n",
       "      <td>0.000000e+00</td>\n",
       "      <td>0.000000e+00</td>\n",
       "      <td>0.000000e+00</td>\n",
       "      <td>0.000000e+00</td>\n",
       "      <td>0.000000e+00</td>\n",
       "      <td>0.000000e+00</td>\n",
       "      <td>0.000000e+00</td>\n",
       "      <td>0.000000e+00</td>\n",
       "    </tr>\n",
       "    <tr>\n",
       "      <th>max</th>\n",
       "      <td>1.548202e+06</td>\n",
       "      <td>9.900000e+01</td>\n",
       "      <td>1.0</td>\n",
       "      <td>5.200000e+01</td>\n",
       "      <td>1.000000e+00</td>\n",
       "      <td>2.889440e+07</td>\n",
       "      <td>1.000000e+00</td>\n",
       "      <td>1.000000e+00</td>\n",
       "      <td>1.000000e+00</td>\n",
       "      <td>1.000000e+00</td>\n",
       "      <td>...</td>\n",
       "      <td>1.000000e+00</td>\n",
       "      <td>1.000000e+00</td>\n",
       "      <td>1.000000e+00</td>\n",
       "      <td>1.000000e+00</td>\n",
       "      <td>1.000000e+00</td>\n",
       "      <td>1.000000e+00</td>\n",
       "      <td>1.000000e+00</td>\n",
       "      <td>1.000000e+00</td>\n",
       "      <td>1.000000e+00</td>\n",
       "      <td>1.000000e+00</td>\n",
       "    </tr>\n",
       "  </tbody>\n",
       "</table>\n",
       "<p>8 rows × 30 columns</p>\n",
       "</div>"
      ],
      "text/plain": [
       "           ncodpers        indrel    tipodom      cod_prov  \\\n",
       "count  2.542161e+06  2.536657e+06  2536657.0  2.524892e+06   \n",
       "mean   8.304201e+05  1.178950e+00        1.0  2.661367e+01   \n",
       "std    4.303029e+05  4.183913e+00        0.0  1.276472e+01   \n",
       "min    1.589500e+04  1.000000e+00        1.0  1.000000e+00   \n",
       "25%    4.501420e+05  1.000000e+00        1.0  1.500000e+01   \n",
       "50%    9.281520e+05  1.000000e+00        1.0  2.800000e+01   \n",
       "75%    1.195256e+06  1.000000e+00        1.0  3.500000e+01   \n",
       "max    1.548202e+06  9.900000e+01        1.0  5.200000e+01   \n",
       "\n",
       "       ind_actividad_cliente         renta  ind_ahor_fin_ult1  \\\n",
       "count           2.536657e+06  2.029958e+06       2.542161e+06   \n",
       "mean            4.615464e-01  1.338971e+05       1.199767e-04   \n",
       "std             4.985192e-01  2.332604e+05       1.095273e-02   \n",
       "min             0.000000e+00  1.471230e+03       0.000000e+00   \n",
       "25%             0.000000e+00  6.874623e+04       0.000000e+00   \n",
       "50%             0.000000e+00  1.016129e+05       0.000000e+00   \n",
       "75%             1.000000e+00  1.553313e+05       0.000000e+00   \n",
       "max             1.000000e+00  2.889440e+07       1.000000e+00   \n",
       "\n",
       "       ind_aval_fin_ult1  ind_cco_fin_ult1  ind_cder_fin_ult1  ...  \\\n",
       "count       2.542161e+06      2.542161e+06       2.542161e+06  ...   \n",
       "mean        1.888157e-05      6.596467e-01       4.000533e-04  ...   \n",
       "std         4.345253e-03      4.738281e-01       1.999734e-02  ...   \n",
       "min         0.000000e+00      0.000000e+00       0.000000e+00  ...   \n",
       "25%         0.000000e+00      0.000000e+00       0.000000e+00  ...   \n",
       "50%         0.000000e+00      1.000000e+00       0.000000e+00  ...   \n",
       "75%         0.000000e+00      1.000000e+00       0.000000e+00  ...   \n",
       "max         1.000000e+00      1.000000e+00       1.000000e+00  ...   \n",
       "\n",
       "       ind_hip_fin_ult1  ind_plan_fin_ult1  ind_pres_fin_ult1  \\\n",
       "count      2.542161e+06       2.542161e+06       2.542161e+06   \n",
       "mean       5.977198e-03       9.472649e-03       2.837743e-03   \n",
       "std        7.708095e-02       9.686548e-02       5.319484e-02   \n",
       "min        0.000000e+00       0.000000e+00       0.000000e+00   \n",
       "25%        0.000000e+00       0.000000e+00       0.000000e+00   \n",
       "50%        0.000000e+00       0.000000e+00       0.000000e+00   \n",
       "75%        0.000000e+00       0.000000e+00       0.000000e+00   \n",
       "max        1.000000e+00       1.000000e+00       1.000000e+00   \n",
       "\n",
       "       ind_reca_fin_ult1  ind_tjcr_fin_ult1  ind_valo_fin_ult1  \\\n",
       "count       2.542161e+06       2.542161e+06       2.542161e+06   \n",
       "mean        5.217529e-02       4.488740e-02       2.522854e-02   \n",
       "std         2.223804e-01       2.070568e-01       1.568186e-01   \n",
       "min         0.000000e+00       0.000000e+00       0.000000e+00   \n",
       "25%         0.000000e+00       0.000000e+00       0.000000e+00   \n",
       "50%         0.000000e+00       0.000000e+00       0.000000e+00   \n",
       "75%         0.000000e+00       0.000000e+00       0.000000e+00   \n",
       "max         1.000000e+00       1.000000e+00       1.000000e+00   \n",
       "\n",
       "       ind_viv_fin_ult1  ind_nomina_ult1  ind_nom_pens_ult1  ind_recibo_ult1  \n",
       "count      2.542161e+06     2.538835e+06       2.538835e+06     2.542161e+06  \n",
       "mean       3.880163e-03     5.520170e-02       5.983847e-02     1.288266e-01  \n",
       "std        6.217000e-02     2.283736e-01       2.371874e-01     3.350080e-01  \n",
       "min        0.000000e+00     0.000000e+00       0.000000e+00     0.000000e+00  \n",
       "25%        0.000000e+00     0.000000e+00       0.000000e+00     0.000000e+00  \n",
       "50%        0.000000e+00     0.000000e+00       0.000000e+00     0.000000e+00  \n",
       "75%        0.000000e+00     0.000000e+00       0.000000e+00     0.000000e+00  \n",
       "max        1.000000e+00     1.000000e+00       1.000000e+00     1.000000e+00  \n",
       "\n",
       "[8 rows x 30 columns]"
      ]
     },
     "execution_count": 6,
     "metadata": {},
     "output_type": "execute_result"
    }
   ],
   "source": [
    "train.describe()"
   ]
  },
  {
   "cell_type": "code",
   "execution_count": 7,
   "id": "aba4a452",
   "metadata": {
    "execution": {
     "iopub.execute_input": "2025-02-13T18:59:51.168949Z",
     "iopub.status.busy": "2025-02-13T18:59:51.168723Z",
     "iopub.status.idle": "2025-02-13T18:59:51.346385Z",
     "shell.execute_reply": "2025-02-13T18:59:51.345487Z"
    },
    "papermill": {
     "duration": 0.189275,
     "end_time": "2025-02-13T18:59:51.347655",
     "exception": false,
     "start_time": "2025-02-13T18:59:51.158380",
     "status": "completed"
    },
    "tags": []
   },
   "outputs": [
    {
     "data": {
      "text/html": [
       "<div>\n",
       "<style scoped>\n",
       "    .dataframe tbody tr th:only-of-type {\n",
       "        vertical-align: middle;\n",
       "    }\n",
       "\n",
       "    .dataframe tbody tr th {\n",
       "        vertical-align: top;\n",
       "    }\n",
       "\n",
       "    .dataframe thead th {\n",
       "        text-align: right;\n",
       "    }\n",
       "</style>\n",
       "<table border=\"1\" class=\"dataframe\">\n",
       "  <thead>\n",
       "    <tr style=\"text-align: right;\">\n",
       "      <th></th>\n",
       "      <th>ncodpers</th>\n",
       "      <th>age</th>\n",
       "      <th>antiguedad</th>\n",
       "      <th>indrel</th>\n",
       "      <th>tipodom</th>\n",
       "      <th>cod_prov</th>\n",
       "      <th>ind_actividad_cliente</th>\n",
       "      <th>renta</th>\n",
       "      <th>ind_ahor_fin_ult1</th>\n",
       "      <th>ind_aval_fin_ult1</th>\n",
       "      <th>...</th>\n",
       "      <th>ind_hip_fin_ult1</th>\n",
       "      <th>ind_plan_fin_ult1</th>\n",
       "      <th>ind_pres_fin_ult1</th>\n",
       "      <th>ind_reca_fin_ult1</th>\n",
       "      <th>ind_tjcr_fin_ult1</th>\n",
       "      <th>ind_valo_fin_ult1</th>\n",
       "      <th>ind_viv_fin_ult1</th>\n",
       "      <th>ind_nomina_ult1</th>\n",
       "      <th>ind_nom_pens_ult1</th>\n",
       "      <th>ind_recibo_ult1</th>\n",
       "    </tr>\n",
       "  </thead>\n",
       "  <tbody>\n",
       "    <tr>\n",
       "      <th>count</th>\n",
       "      <td>1.852230e+05</td>\n",
       "      <td>185223.000000</td>\n",
       "      <td>185223.000000</td>\n",
       "      <td>185223.000000</td>\n",
       "      <td>185223.0</td>\n",
       "      <td>184466.000000</td>\n",
       "      <td>185223.000000</td>\n",
       "      <td>1.403930e+05</td>\n",
       "      <td>185223.000000</td>\n",
       "      <td>185223.000000</td>\n",
       "      <td>...</td>\n",
       "      <td>185223.000000</td>\n",
       "      <td>185223.000000</td>\n",
       "      <td>185223.000000</td>\n",
       "      <td>185223.000000</td>\n",
       "      <td>185223.000000</td>\n",
       "      <td>185223.000000</td>\n",
       "      <td>185223.000000</td>\n",
       "      <td>185223.000000</td>\n",
       "      <td>185223.000000</td>\n",
       "      <td>185223.000000</td>\n",
       "    </tr>\n",
       "    <tr>\n",
       "      <th>mean</th>\n",
       "      <td>8.763240e+05</td>\n",
       "      <td>40.211993</td>\n",
       "      <td>80.445873</td>\n",
       "      <td>1.140209</td>\n",
       "      <td>1.0</td>\n",
       "      <td>26.595714</td>\n",
       "      <td>0.426524</td>\n",
       "      <td>1.338104e+05</td>\n",
       "      <td>0.000103</td>\n",
       "      <td>0.000011</td>\n",
       "      <td>...</td>\n",
       "      <td>0.004881</td>\n",
       "      <td>0.008017</td>\n",
       "      <td>0.002262</td>\n",
       "      <td>0.048655</td>\n",
       "      <td>0.037566</td>\n",
       "      <td>0.022740</td>\n",
       "      <td>0.003202</td>\n",
       "      <td>0.052202</td>\n",
       "      <td>0.057039</td>\n",
       "      <td>0.122690</td>\n",
       "    </tr>\n",
       "    <tr>\n",
       "      <th>std</th>\n",
       "      <td>4.472418e+05</td>\n",
       "      <td>17.193843</td>\n",
       "      <td>67.235754</td>\n",
       "      <td>3.704178</td>\n",
       "      <td>0.0</td>\n",
       "      <td>12.825876</td>\n",
       "      <td>0.494573</td>\n",
       "      <td>2.322061e+05</td>\n",
       "      <td>0.010128</td>\n",
       "      <td>0.003286</td>\n",
       "      <td>...</td>\n",
       "      <td>0.069691</td>\n",
       "      <td>0.089180</td>\n",
       "      <td>0.047508</td>\n",
       "      <td>0.215146</td>\n",
       "      <td>0.190144</td>\n",
       "      <td>0.149074</td>\n",
       "      <td>0.056492</td>\n",
       "      <td>0.222435</td>\n",
       "      <td>0.231918</td>\n",
       "      <td>0.328082</td>\n",
       "    </tr>\n",
       "    <tr>\n",
       "      <th>min</th>\n",
       "      <td>1.589500e+04</td>\n",
       "      <td>2.000000</td>\n",
       "      <td>0.000000</td>\n",
       "      <td>1.000000</td>\n",
       "      <td>1.0</td>\n",
       "      <td>1.000000</td>\n",
       "      <td>0.000000</td>\n",
       "      <td>1.471230e+03</td>\n",
       "      <td>0.000000</td>\n",
       "      <td>0.000000</td>\n",
       "      <td>...</td>\n",
       "      <td>0.000000</td>\n",
       "      <td>0.000000</td>\n",
       "      <td>0.000000</td>\n",
       "      <td>0.000000</td>\n",
       "      <td>0.000000</td>\n",
       "      <td>0.000000</td>\n",
       "      <td>0.000000</td>\n",
       "      <td>0.000000</td>\n",
       "      <td>0.000000</td>\n",
       "      <td>0.000000</td>\n",
       "    </tr>\n",
       "    <tr>\n",
       "      <th>25%</th>\n",
       "      <td>4.812955e+05</td>\n",
       "      <td>25.000000</td>\n",
       "      <td>22.000000</td>\n",
       "      <td>1.000000</td>\n",
       "      <td>1.0</td>\n",
       "      <td>15.000000</td>\n",
       "      <td>0.000000</td>\n",
       "      <td>6.854784e+04</td>\n",
       "      <td>0.000000</td>\n",
       "      <td>0.000000</td>\n",
       "      <td>...</td>\n",
       "      <td>0.000000</td>\n",
       "      <td>0.000000</td>\n",
       "      <td>0.000000</td>\n",
       "      <td>0.000000</td>\n",
       "      <td>0.000000</td>\n",
       "      <td>0.000000</td>\n",
       "      <td>0.000000</td>\n",
       "      <td>0.000000</td>\n",
       "      <td>0.000000</td>\n",
       "      <td>0.000000</td>\n",
       "    </tr>\n",
       "    <tr>\n",
       "      <th>50%</th>\n",
       "      <td>9.630710e+05</td>\n",
       "      <td>38.000000</td>\n",
       "      <td>54.000000</td>\n",
       "      <td>1.000000</td>\n",
       "      <td>1.0</td>\n",
       "      <td>28.000000</td>\n",
       "      <td>0.000000</td>\n",
       "      <td>1.013255e+05</td>\n",
       "      <td>0.000000</td>\n",
       "      <td>0.000000</td>\n",
       "      <td>...</td>\n",
       "      <td>0.000000</td>\n",
       "      <td>0.000000</td>\n",
       "      <td>0.000000</td>\n",
       "      <td>0.000000</td>\n",
       "      <td>0.000000</td>\n",
       "      <td>0.000000</td>\n",
       "      <td>0.000000</td>\n",
       "      <td>0.000000</td>\n",
       "      <td>0.000000</td>\n",
       "      <td>0.000000</td>\n",
       "    </tr>\n",
       "    <tr>\n",
       "      <th>75%</th>\n",
       "      <td>1.260944e+06</td>\n",
       "      <td>50.000000</td>\n",
       "      <td>135.000000</td>\n",
       "      <td>1.000000</td>\n",
       "      <td>1.0</td>\n",
       "      <td>35.000000</td>\n",
       "      <td>1.000000</td>\n",
       "      <td>1.550789e+05</td>\n",
       "      <td>0.000000</td>\n",
       "      <td>0.000000</td>\n",
       "      <td>...</td>\n",
       "      <td>0.000000</td>\n",
       "      <td>0.000000</td>\n",
       "      <td>0.000000</td>\n",
       "      <td>0.000000</td>\n",
       "      <td>0.000000</td>\n",
       "      <td>0.000000</td>\n",
       "      <td>0.000000</td>\n",
       "      <td>0.000000</td>\n",
       "      <td>0.000000</td>\n",
       "      <td>0.000000</td>\n",
       "    </tr>\n",
       "    <tr>\n",
       "      <th>max</th>\n",
       "      <td>1.548202e+06</td>\n",
       "      <td>117.000000</td>\n",
       "      <td>256.000000</td>\n",
       "      <td>99.000000</td>\n",
       "      <td>1.0</td>\n",
       "      <td>52.000000</td>\n",
       "      <td>1.000000</td>\n",
       "      <td>2.889440e+07</td>\n",
       "      <td>1.000000</td>\n",
       "      <td>1.000000</td>\n",
       "      <td>...</td>\n",
       "      <td>1.000000</td>\n",
       "      <td>1.000000</td>\n",
       "      <td>1.000000</td>\n",
       "      <td>1.000000</td>\n",
       "      <td>1.000000</td>\n",
       "      <td>1.000000</td>\n",
       "      <td>1.000000</td>\n",
       "      <td>1.000000</td>\n",
       "      <td>1.000000</td>\n",
       "      <td>1.000000</td>\n",
       "    </tr>\n",
       "  </tbody>\n",
       "</table>\n",
       "<p>8 rows × 32 columns</p>\n",
       "</div>"
      ],
      "text/plain": [
       "           ncodpers            age     antiguedad         indrel   tipodom  \\\n",
       "count  1.852230e+05  185223.000000  185223.000000  185223.000000  185223.0   \n",
       "mean   8.763240e+05      40.211993      80.445873       1.140209       1.0   \n",
       "std    4.472418e+05      17.193843      67.235754       3.704178       0.0   \n",
       "min    1.589500e+04       2.000000       0.000000       1.000000       1.0   \n",
       "25%    4.812955e+05      25.000000      22.000000       1.000000       1.0   \n",
       "50%    9.630710e+05      38.000000      54.000000       1.000000       1.0   \n",
       "75%    1.260944e+06      50.000000     135.000000       1.000000       1.0   \n",
       "max    1.548202e+06     117.000000     256.000000      99.000000       1.0   \n",
       "\n",
       "            cod_prov  ind_actividad_cliente         renta  ind_ahor_fin_ult1  \\\n",
       "count  184466.000000          185223.000000  1.403930e+05      185223.000000   \n",
       "mean       26.595714               0.426524  1.338104e+05           0.000103   \n",
       "std        12.825876               0.494573  2.322061e+05           0.010128   \n",
       "min         1.000000               0.000000  1.471230e+03           0.000000   \n",
       "25%        15.000000               0.000000  6.854784e+04           0.000000   \n",
       "50%        28.000000               0.000000  1.013255e+05           0.000000   \n",
       "75%        35.000000               1.000000  1.550789e+05           0.000000   \n",
       "max        52.000000               1.000000  2.889440e+07           1.000000   \n",
       "\n",
       "       ind_aval_fin_ult1  ...  ind_hip_fin_ult1  ind_plan_fin_ult1  \\\n",
       "count      185223.000000  ...     185223.000000      185223.000000   \n",
       "mean            0.000011  ...          0.004881           0.008017   \n",
       "std             0.003286  ...          0.069691           0.089180   \n",
       "min             0.000000  ...          0.000000           0.000000   \n",
       "25%             0.000000  ...          0.000000           0.000000   \n",
       "50%             0.000000  ...          0.000000           0.000000   \n",
       "75%             0.000000  ...          0.000000           0.000000   \n",
       "max             1.000000  ...          1.000000           1.000000   \n",
       "\n",
       "       ind_pres_fin_ult1  ind_reca_fin_ult1  ind_tjcr_fin_ult1  \\\n",
       "count      185223.000000      185223.000000      185223.000000   \n",
       "mean            0.002262           0.048655           0.037566   \n",
       "std             0.047508           0.215146           0.190144   \n",
       "min             0.000000           0.000000           0.000000   \n",
       "25%             0.000000           0.000000           0.000000   \n",
       "50%             0.000000           0.000000           0.000000   \n",
       "75%             0.000000           0.000000           0.000000   \n",
       "max             1.000000           1.000000           1.000000   \n",
       "\n",
       "       ind_valo_fin_ult1  ind_viv_fin_ult1  ind_nomina_ult1  \\\n",
       "count      185223.000000     185223.000000    185223.000000   \n",
       "mean            0.022740          0.003202         0.052202   \n",
       "std             0.149074          0.056492         0.222435   \n",
       "min             0.000000          0.000000         0.000000   \n",
       "25%             0.000000          0.000000         0.000000   \n",
       "50%             0.000000          0.000000         0.000000   \n",
       "75%             0.000000          0.000000         0.000000   \n",
       "max             1.000000          1.000000         1.000000   \n",
       "\n",
       "       ind_nom_pens_ult1  ind_recibo_ult1  \n",
       "count      185223.000000    185223.000000  \n",
       "mean            0.057039         0.122690  \n",
       "std             0.231918         0.328082  \n",
       "min             0.000000         0.000000  \n",
       "25%             0.000000         0.000000  \n",
       "50%             0.000000         0.000000  \n",
       "75%             0.000000         0.000000  \n",
       "max             1.000000         1.000000  \n",
       "\n",
       "[8 rows x 32 columns]"
      ]
     },
     "execution_count": 7,
     "metadata": {},
     "output_type": "execute_result"
    }
   ],
   "source": [
    "test.describe()"
   ]
  },
  {
   "cell_type": "markdown",
   "id": "6e79ec6a",
   "metadata": {
    "papermill": {
     "duration": 0.010054,
     "end_time": "2025-02-13T18:59:51.368071",
     "exception": false,
     "start_time": "2025-02-13T18:59:51.358017",
     "status": "completed"
    },
    "tags": []
   },
   "source": [
    "# Data Cleaning"
   ]
  },
  {
   "cell_type": "code",
   "execution_count": 8,
   "id": "f89156ee",
   "metadata": {
    "execution": {
     "iopub.execute_input": "2025-02-13T18:59:51.388594Z",
     "iopub.status.busy": "2025-02-13T18:59:51.388345Z",
     "iopub.status.idle": "2025-02-13T18:59:51.396123Z",
     "shell.execute_reply": "2025-02-13T18:59:51.395235Z"
    },
    "papermill": {
     "duration": 0.019627,
     "end_time": "2025-02-13T18:59:51.397462",
     "exception": false,
     "start_time": "2025-02-13T18:59:51.377835",
     "status": "completed"
    },
    "tags": []
   },
   "outputs": [
    {
     "name": "stdout",
     "output_type": "stream",
     "text": [
      "Chúng ta có số bảng ghi là: 2542161\n"
     ]
    }
   ],
   "source": [
    "# Chúng ta có tổng cộng bao nhiêu bản ghi ?\n",
    "print(\"Chúng ta có số bảng ghi là:\", train[\"ncodpers\"].count())"
   ]
  },
  {
   "cell_type": "code",
   "execution_count": 9,
   "id": "c7ee990a",
   "metadata": {
    "execution": {
     "iopub.execute_input": "2025-02-13T18:59:51.418266Z",
     "iopub.status.busy": "2025-02-13T18:59:51.418020Z",
     "iopub.status.idle": "2025-02-13T18:59:51.424172Z",
     "shell.execute_reply": "2025-02-13T18:59:51.423293Z"
    },
    "papermill": {
     "duration": 0.018062,
     "end_time": "2025-02-13T18:59:51.425627",
     "exception": false,
     "start_time": "2025-02-13T18:59:51.407565",
     "status": "completed"
    },
    "tags": []
   },
   "outputs": [
    {
     "data": {
      "text/plain": [
       "fecha_dato                object\n",
       "ncodpers                   int64\n",
       "ind_empleado              object\n",
       "pais_residencia           object\n",
       "sexo                      object\n",
       "age                       object\n",
       "fecha_alta                object\n",
       "ind_nuevo                 object\n",
       "antiguedad                object\n",
       "indrel                   float64\n",
       "ult_fec_cli_1t            object\n",
       "indrel_1mes               object\n",
       "tiprel_1mes               object\n",
       "indresi                   object\n",
       "indext                    object\n",
       "conyuemp                  object\n",
       "canal_entrada             object\n",
       "indfall                   object\n",
       "tipodom                  float64\n",
       "cod_prov                 float64\n",
       "nomprov                   object\n",
       "ind_actividad_cliente    float64\n",
       "renta                    float64\n",
       "segmento                  object\n",
       "ind_ahor_fin_ult1          int64\n",
       "ind_aval_fin_ult1          int64\n",
       "ind_cco_fin_ult1           int64\n",
       "ind_cder_fin_ult1          int64\n",
       "ind_cno_fin_ult1           int64\n",
       "ind_ctju_fin_ult1          int64\n",
       "ind_ctma_fin_ult1          int64\n",
       "ind_ctop_fin_ult1          int64\n",
       "ind_ctpp_fin_ult1          int64\n",
       "ind_deco_fin_ult1          int64\n",
       "ind_deme_fin_ult1          int64\n",
       "ind_dela_fin_ult1          int64\n",
       "ind_ecue_fin_ult1          int64\n",
       "ind_fond_fin_ult1          int64\n",
       "ind_hip_fin_ult1           int64\n",
       "ind_plan_fin_ult1          int64\n",
       "ind_pres_fin_ult1          int64\n",
       "ind_reca_fin_ult1          int64\n",
       "ind_tjcr_fin_ult1          int64\n",
       "ind_valo_fin_ult1          int64\n",
       "ind_viv_fin_ult1           int64\n",
       "ind_nomina_ult1          float64\n",
       "ind_nom_pens_ult1        float64\n",
       "ind_recibo_ult1            int64\n",
       "dtype: object"
      ]
     },
     "execution_count": 9,
     "metadata": {},
     "output_type": "execute_result"
    }
   ],
   "source": [
    "train.dtypes"
   ]
  },
  {
   "cell_type": "code",
   "execution_count": 10,
   "id": "44a7203e",
   "metadata": {
    "execution": {
     "iopub.execute_input": "2025-02-13T18:59:51.447187Z",
     "iopub.status.busy": "2025-02-13T18:59:51.446934Z",
     "iopub.status.idle": "2025-02-13T18:59:51.452588Z",
     "shell.execute_reply": "2025-02-13T18:59:51.451771Z"
    },
    "papermill": {
     "duration": 0.017388,
     "end_time": "2025-02-13T18:59:51.453808",
     "exception": false,
     "start_time": "2025-02-13T18:59:51.436420",
     "status": "completed"
    },
    "tags": []
   },
   "outputs": [
    {
     "data": {
      "text/plain": [
       "fecha_dato                object\n",
       "ncodpers                   int64\n",
       "ind_empleado              object\n",
       "pais_residencia           object\n",
       "sexo                      object\n",
       "age                        int64\n",
       "fecha_alta                object\n",
       "ind_nuevo                 object\n",
       "antiguedad                 int64\n",
       "indrel                   float64\n",
       "ult_fec_cli_1t            object\n",
       "indrel_1mes               object\n",
       "tiprel_1mes               object\n",
       "indresi                   object\n",
       "indext                    object\n",
       "conyuemp                  object\n",
       "canal_entrada             object\n",
       "indfall                   object\n",
       "tipodom                  float64\n",
       "cod_prov                 float64\n",
       "nomprov                   object\n",
       "ind_actividad_cliente    float64\n",
       "renta                    float64\n",
       "segmento                  object\n",
       "ind_ahor_fin_ult1          int64\n",
       "ind_aval_fin_ult1          int64\n",
       "ind_cco_fin_ult1           int64\n",
       "ind_cder_fin_ult1          int64\n",
       "ind_cno_fin_ult1           int64\n",
       "ind_ctju_fin_ult1          int64\n",
       "ind_ctma_fin_ult1          int64\n",
       "ind_ctop_fin_ult1          int64\n",
       "ind_ctpp_fin_ult1          int64\n",
       "ind_deco_fin_ult1          int64\n",
       "ind_deme_fin_ult1          int64\n",
       "ind_dela_fin_ult1          int64\n",
       "ind_ecue_fin_ult1          int64\n",
       "ind_fond_fin_ult1          int64\n",
       "ind_hip_fin_ult1           int64\n",
       "ind_plan_fin_ult1          int64\n",
       "ind_pres_fin_ult1          int64\n",
       "ind_reca_fin_ult1          int64\n",
       "ind_tjcr_fin_ult1          int64\n",
       "ind_valo_fin_ult1          int64\n",
       "ind_viv_fin_ult1           int64\n",
       "ind_nomina_ult1          float64\n",
       "ind_nom_pens_ult1        float64\n",
       "ind_recibo_ult1            int64\n",
       "dtype: object"
      ]
     },
     "execution_count": 10,
     "metadata": {},
     "output_type": "execute_result"
    }
   ],
   "source": [
    "test.dtypes"
   ]
  },
  {
   "cell_type": "code",
   "execution_count": 11,
   "id": "dd372b6b",
   "metadata": {
    "execution": {
     "iopub.execute_input": "2025-02-13T18:59:51.474888Z",
     "iopub.status.busy": "2025-02-13T18:59:51.474658Z",
     "iopub.status.idle": "2025-02-13T18:59:53.265735Z",
     "shell.execute_reply": "2025-02-13T18:59:53.265045Z"
    },
    "papermill": {
     "duration": 1.803447,
     "end_time": "2025-02-13T18:59:53.267324",
     "exception": false,
     "start_time": "2025-02-13T18:59:51.463877",
     "status": "completed"
    },
    "tags": []
   },
   "outputs": [],
   "source": [
    "# Thay đổi kiểu dữ liệu \n",
    "train[\"age\"] = pd.to_numeric(train[\"age\"], errors=\"coerce\") \n",
    "train[\"antiguedad\"] = pd.to_numeric(train[\"antiguedad\"], errors=\"coerce\") \n",
    "train[\"indrel_1mes\"] = pd.to_numeric(train[\"indrel_1mes\"], errors=\"coerce\") "
   ]
  },
  {
   "cell_type": "code",
   "execution_count": 12,
   "id": "6129753f",
   "metadata": {
    "execution": {
     "iopub.execute_input": "2025-02-13T18:59:53.289373Z",
     "iopub.status.busy": "2025-02-13T18:59:53.289139Z",
     "iopub.status.idle": "2025-02-13T18:59:53.329213Z",
     "shell.execute_reply": "2025-02-13T18:59:53.328596Z"
    },
    "papermill": {
     "duration": 0.052372,
     "end_time": "2025-02-13T18:59:53.330363",
     "exception": false,
     "start_time": "2025-02-13T18:59:53.277991",
     "status": "completed"
    },
    "tags": []
   },
   "outputs": [],
   "source": [
    "test[\"age\"] = pd.to_numeric(test[\"age\"], errors=\"coerce\") \n",
    "test[\"antiguedad\"] = pd.to_numeric(test[\"antiguedad\"], errors=\"coerce\") \n",
    "test[\"indrel_1mes\"] = pd.to_numeric(test[\"indrel_1mes\"], errors=\"coerce\") \n",
    "test[\"renta\"] = pd.to_numeric(test[\"renta\"], errors=\"coerce\") "
   ]
  },
  {
   "cell_type": "code",
   "execution_count": 13,
   "id": "b3f65236",
   "metadata": {
    "execution": {
     "iopub.execute_input": "2025-02-13T18:59:53.351350Z",
     "iopub.status.busy": "2025-02-13T18:59:53.351087Z",
     "iopub.status.idle": "2025-02-13T18:59:54.943993Z",
     "shell.execute_reply": "2025-02-13T18:59:54.943146Z"
    },
    "papermill": {
     "duration": 1.604887,
     "end_time": "2025-02-13T18:59:54.945376",
     "exception": false,
     "start_time": "2025-02-13T18:59:53.340489",
     "status": "completed"
    },
    "tags": []
   },
   "outputs": [
    {
     "data": {
      "text/plain": [
       "fecha_dato                     0\n",
       "ncodpers                       0\n",
       "ind_empleado                5504\n",
       "pais_residencia             5504\n",
       "sexo                        5520\n",
       "age                         5504\n",
       "fecha_alta                  5504\n",
       "ind_nuevo                   5504\n",
       "antiguedad                  5504\n",
       "indrel                      5504\n",
       "ult_fec_cli_1t           2537529\n",
       "indrel_1mes                29303\n",
       "tiprel_1mes                29159\n",
       "indresi                     5504\n",
       "indext                      5504\n",
       "conyuemp                 2541827\n",
       "canal_entrada              35988\n",
       "indfall                     5504\n",
       "tipodom                     5504\n",
       "cod_prov                   17269\n",
       "nomprov                    17269\n",
       "ind_actividad_cliente       5504\n",
       "renta                     512203\n",
       "segmento                   36386\n",
       "ind_ahor_fin_ult1              0\n",
       "ind_aval_fin_ult1              0\n",
       "ind_cco_fin_ult1               0\n",
       "ind_cder_fin_ult1              0\n",
       "ind_cno_fin_ult1               0\n",
       "ind_ctju_fin_ult1              0\n",
       "ind_ctma_fin_ult1              0\n",
       "ind_ctop_fin_ult1              0\n",
       "ind_ctpp_fin_ult1              0\n",
       "ind_deco_fin_ult1              0\n",
       "ind_deme_fin_ult1              0\n",
       "ind_dela_fin_ult1              0\n",
       "ind_ecue_fin_ult1              0\n",
       "ind_fond_fin_ult1              0\n",
       "ind_hip_fin_ult1               0\n",
       "ind_plan_fin_ult1              0\n",
       "ind_pres_fin_ult1              0\n",
       "ind_reca_fin_ult1              0\n",
       "ind_tjcr_fin_ult1              0\n",
       "ind_valo_fin_ult1              0\n",
       "ind_viv_fin_ult1               0\n",
       "ind_nomina_ult1             3326\n",
       "ind_nom_pens_ult1           3326\n",
       "ind_recibo_ult1                0\n",
       "dtype: int64"
      ]
     },
     "execution_count": 13,
     "metadata": {},
     "output_type": "execute_result"
    }
   ],
   "source": [
    "# Giá trị bị thiếu với từng cột \n",
    "train.isnull().sum()"
   ]
  },
  {
   "cell_type": "code",
   "execution_count": 14,
   "id": "374a50a8",
   "metadata": {
    "execution": {
     "iopub.execute_input": "2025-02-13T18:59:54.967019Z",
     "iopub.status.busy": "2025-02-13T18:59:54.966748Z",
     "iopub.status.idle": "2025-02-13T18:59:55.092534Z",
     "shell.execute_reply": "2025-02-13T18:59:55.091529Z"
    },
    "papermill": {
     "duration": 0.138303,
     "end_time": "2025-02-13T18:59:55.094250",
     "exception": false,
     "start_time": "2025-02-13T18:59:54.955947",
     "status": "completed"
    },
    "tags": []
   },
   "outputs": [
    {
     "data": {
      "text/plain": [
       "fecha_dato                    0\n",
       "ncodpers                      0\n",
       "ind_empleado                  0\n",
       "pais_residencia               0\n",
       "sexo                          1\n",
       "age                           0\n",
       "fecha_alta                    0\n",
       "ind_nuevo                     0\n",
       "antiguedad                    0\n",
       "indrel                        0\n",
       "ult_fec_cli_1t           184958\n",
       "indrel_1mes                   0\n",
       "tiprel_1mes                   0\n",
       "indresi                       0\n",
       "indext                        0\n",
       "conyuemp                 185202\n",
       "canal_entrada               433\n",
       "indfall                       0\n",
       "tipodom                       0\n",
       "cod_prov                    757\n",
       "nomprov                     757\n",
       "ind_actividad_cliente         0\n",
       "renta                     44830\n",
       "segmento                    453\n",
       "ind_ahor_fin_ult1             0\n",
       "ind_aval_fin_ult1             0\n",
       "ind_cco_fin_ult1              0\n",
       "ind_cder_fin_ult1             0\n",
       "ind_cno_fin_ult1              0\n",
       "ind_ctju_fin_ult1             0\n",
       "ind_ctma_fin_ult1             0\n",
       "ind_ctop_fin_ult1             0\n",
       "ind_ctpp_fin_ult1             0\n",
       "ind_deco_fin_ult1             0\n",
       "ind_deme_fin_ult1             0\n",
       "ind_dela_fin_ult1             0\n",
       "ind_ecue_fin_ult1             0\n",
       "ind_fond_fin_ult1             0\n",
       "ind_hip_fin_ult1              0\n",
       "ind_plan_fin_ult1             0\n",
       "ind_pres_fin_ult1             0\n",
       "ind_reca_fin_ult1             0\n",
       "ind_tjcr_fin_ult1             0\n",
       "ind_valo_fin_ult1             0\n",
       "ind_viv_fin_ult1              0\n",
       "ind_nomina_ult1               0\n",
       "ind_nom_pens_ult1             0\n",
       "ind_recibo_ult1               0\n",
       "dtype: int64"
      ]
     },
     "execution_count": 14,
     "metadata": {},
     "output_type": "execute_result"
    }
   ],
   "source": [
    "# Giá trị bị thiếu với từng cột \n",
    "test.isnull().sum()"
   ]
  },
  {
   "cell_type": "code",
   "execution_count": 15,
   "id": "02cdf33d",
   "metadata": {
    "execution": {
     "iopub.execute_input": "2025-02-13T18:59:55.117412Z",
     "iopub.status.busy": "2025-02-13T18:59:55.117180Z",
     "iopub.status.idle": "2025-02-13T18:59:55.664730Z",
     "shell.execute_reply": "2025-02-13T18:59:55.664054Z"
    },
    "papermill": {
     "duration": 0.560215,
     "end_time": "2025-02-13T18:59:55.666390",
     "exception": false,
     "start_time": "2025-02-13T18:59:55.106175",
     "status": "completed"
    },
    "tags": []
   },
   "outputs": [],
   "source": [
    "# Xóa cột \n",
    "train = train.drop([\"ult_fec_cli_1t\", \"conyuemp\"], axis=1) "
   ]
  },
  {
   "cell_type": "code",
   "execution_count": 16,
   "id": "742f9547",
   "metadata": {
    "execution": {
     "iopub.execute_input": "2025-02-13T18:59:55.688416Z",
     "iopub.status.busy": "2025-02-13T18:59:55.688177Z",
     "iopub.status.idle": "2025-02-13T18:59:55.728236Z",
     "shell.execute_reply": "2025-02-13T18:59:55.727549Z"
    },
    "papermill": {
     "duration": 0.05233,
     "end_time": "2025-02-13T18:59:55.729557",
     "exception": false,
     "start_time": "2025-02-13T18:59:55.677227",
     "status": "completed"
    },
    "tags": []
   },
   "outputs": [],
   "source": [
    "# Xóa cột \n",
    "test = test.drop([\"ult_fec_cli_1t\", \"conyuemp\"], axis=1) "
   ]
  },
  {
   "cell_type": "code",
   "execution_count": 17,
   "id": "b2bf122c",
   "metadata": {
    "execution": {
     "iopub.execute_input": "2025-02-13T18:59:55.751369Z",
     "iopub.status.busy": "2025-02-13T18:59:55.751150Z",
     "iopub.status.idle": "2025-02-13T19:00:07.690013Z",
     "shell.execute_reply": "2025-02-13T19:00:07.689320Z"
    },
    "papermill": {
     "duration": 11.951291,
     "end_time": "2025-02-13T19:00:07.691591",
     "exception": false,
     "start_time": "2025-02-13T18:59:55.740300",
     "status": "completed"
    },
    "tags": []
   },
   "outputs": [],
   "source": [
    "#Ta sẽ thay thế những giá trị bị thiếu ở cột renta bằng tthu nhập trung bình của khách hàng trong cùng một tỉnh \n",
    "grouped = train.groupby(\"nomprov\").agg({\"renta\":lambda x: x.median(skipna=True)}).reset_index()\n",
    "new_incomes = pd.merge(train,grouped,how=\"inner\",on=\"nomprov\").loc[:, [\"nomprov\",\"renta_y\"]]\n",
    "new_incomes = new_incomes.rename(columns={\"renta_y\":\"renta\"}).sort_values(\"renta\").sort_values(\"nomprov\")\n",
    "train.sort_values(\"nomprov\",inplace=True)\n",
    "train = train.reset_index()\n",
    "new_incomes = new_incomes.reset_index()\n",
    "\n",
    "train.loc[train.renta.isnull(),\"renta\"] = new_incomes.loc[train.renta.isnull(),\"renta\"].reset_index()\n",
    "train.loc[train.renta.isnull(),\"renta\"] = train.loc[train.renta.notnull(),\"renta\"].median()\n",
    "train.sort_values(by=\"fecha_dato\",inplace=True)"
   ]
  },
  {
   "cell_type": "code",
   "execution_count": 18,
   "id": "b57c3933",
   "metadata": {
    "execution": {
     "iopub.execute_input": "2025-02-13T19:00:07.714296Z",
     "iopub.status.busy": "2025-02-13T19:00:07.714040Z",
     "iopub.status.idle": "2025-02-13T19:00:08.585512Z",
     "shell.execute_reply": "2025-02-13T19:00:08.584772Z"
    },
    "papermill": {
     "duration": 0.884653,
     "end_time": "2025-02-13T19:00:08.587168",
     "exception": false,
     "start_time": "2025-02-13T19:00:07.702515",
     "status": "completed"
    },
    "tags": []
   },
   "outputs": [],
   "source": [
    "grouped = test.groupby(\"nomprov\").agg({\"renta\":lambda x: x.median(skipna=True)}).reset_index()\n",
    "new_incomes = pd.merge(test,grouped,how=\"inner\",on=\"nomprov\").loc[:, [\"nomprov\",\"renta_y\"]]\n",
    "new_incomes = new_incomes.rename(columns={\"renta_y\":\"renta\"}).sort_values(\"renta\").sort_values(\"nomprov\")\n",
    "test.sort_values(\"nomprov\",inplace=True)\n",
    "test = test.reset_index()\n",
    "new_incomes = new_incomes.reset_index()\n",
    "\n",
    "test.loc[train.renta.isnull(),\"renta\"] = new_incomes.loc[test.renta.isnull(),\"renta\"].reset_index()\n",
    "test.loc[train.renta.isnull(),\"renta\"] = test.loc[test.renta.notnull(),\"renta\"].median()\n",
    "test.sort_values(by=\"fecha_dato\",inplace=True)"
   ]
  },
  {
   "cell_type": "code",
   "execution_count": 19,
   "id": "84b69661",
   "metadata": {
    "execution": {
     "iopub.execute_input": "2025-02-13T19:00:08.610264Z",
     "iopub.status.busy": "2025-02-13T19:00:08.610000Z",
     "iopub.status.idle": "2025-02-13T19:00:10.498951Z",
     "shell.execute_reply": "2025-02-13T19:00:10.498253Z"
    },
    "papermill": {
     "duration": 1.902058,
     "end_time": "2025-02-13T19:00:10.500554",
     "exception": false,
     "start_time": "2025-02-13T19:00:08.598496",
     "status": "completed"
    },
    "tags": []
   },
   "outputs": [],
   "source": [
    "train = train.dropna(axis=0)"
   ]
  },
  {
   "cell_type": "code",
   "execution_count": 20,
   "id": "4e40f132",
   "metadata": {
    "execution": {
     "iopub.execute_input": "2025-02-13T19:00:10.523031Z",
     "iopub.status.busy": "2025-02-13T19:00:10.522737Z",
     "iopub.status.idle": "2025-02-13T19:00:10.660068Z",
     "shell.execute_reply": "2025-02-13T19:00:10.659288Z"
    },
    "papermill": {
     "duration": 0.150134,
     "end_time": "2025-02-13T19:00:10.661604",
     "exception": false,
     "start_time": "2025-02-13T19:00:10.511470",
     "status": "completed"
    },
    "tags": []
   },
   "outputs": [],
   "source": [
    "test = test.dropna(axis=0)"
   ]
  },
  {
   "cell_type": "code",
   "execution_count": 21,
   "id": "4cf3c383",
   "metadata": {
    "execution": {
     "iopub.execute_input": "2025-02-13T19:00:10.683770Z",
     "iopub.status.busy": "2025-02-13T19:00:10.683517Z",
     "iopub.status.idle": "2025-02-13T19:00:10.690180Z",
     "shell.execute_reply": "2025-02-13T19:00:10.689520Z"
    },
    "papermill": {
     "duration": 0.018971,
     "end_time": "2025-02-13T19:00:10.691356",
     "exception": false,
     "start_time": "2025-02-13T19:00:10.672385",
     "status": "completed"
    },
    "tags": []
   },
   "outputs": [],
   "source": [
    "#Có một số khách hàng có thâm niên ít hơn 0. Ta sẽ thay thế bằng 0\n",
    "train[train[\"antiguedad\"]<0] = 0"
   ]
  },
  {
   "cell_type": "code",
   "execution_count": 22,
   "id": "82803cc0",
   "metadata": {
    "execution": {
     "iopub.execute_input": "2025-02-13T19:00:10.713577Z",
     "iopub.status.busy": "2025-02-13T19:00:10.713345Z",
     "iopub.status.idle": "2025-02-13T19:00:10.717105Z",
     "shell.execute_reply": "2025-02-13T19:00:10.716446Z"
    },
    "papermill": {
     "duration": 0.016284,
     "end_time": "2025-02-13T19:00:10.718388",
     "exception": false,
     "start_time": "2025-02-13T19:00:10.702104",
     "status": "completed"
    },
    "tags": []
   },
   "outputs": [],
   "source": [
    "test[test[\"antiguedad\"]<0] = 0"
   ]
  },
  {
   "cell_type": "code",
   "execution_count": 23,
   "id": "451c68ea",
   "metadata": {
    "execution": {
     "iopub.execute_input": "2025-02-13T19:00:10.740794Z",
     "iopub.status.busy": "2025-02-13T19:00:10.740560Z",
     "iopub.status.idle": "2025-02-13T19:00:11.516218Z",
     "shell.execute_reply": "2025-02-13T19:00:11.515480Z"
    },
    "papermill": {
     "duration": 0.788362,
     "end_time": "2025-02-13T19:00:11.517883",
     "exception": false,
     "start_time": "2025-02-13T19:00:10.729521",
     "status": "completed"
    },
    "tags": []
   },
   "outputs": [],
   "source": [
    "# Thêm một cột mới về tổng số sản phẩm của mỗi khách hàng mỗi tháng\n",
    "train[\"tot_products\"] = train.loc[:,\"ind_ahor_fin_ult1\":\"ind_recibo_ult1\"].sum(axis=1)\n",
    "train[\"tot_products\"] = pd.to_numeric(train[\"tot_products\"], errors=\"coerce\") "
   ]
  },
  {
   "cell_type": "code",
   "execution_count": 24,
   "id": "5583c563",
   "metadata": {
    "execution": {
     "iopub.execute_input": "2025-02-13T19:00:11.540721Z",
     "iopub.status.busy": "2025-02-13T19:00:11.540472Z",
     "iopub.status.idle": "2025-02-13T19:00:11.796328Z",
     "shell.execute_reply": "2025-02-13T19:00:11.795574Z"
    },
    "papermill": {
     "duration": 0.268549,
     "end_time": "2025-02-13T19:00:11.797565",
     "exception": false,
     "start_time": "2025-02-13T19:00:11.529016",
     "status": "completed"
    },
    "tags": []
   },
   "outputs": [
    {
     "data": {
      "text/plain": [
       "count     2493828\n",
       "unique          2\n",
       "top            ES\n",
       "freq      2493812\n",
       "Name: pais_residencia, dtype: object"
      ]
     },
     "execution_count": 24,
     "metadata": {},
     "output_type": "execute_result"
    }
   ],
   "source": [
    "#Bây giờ chúng ta sẽ kiểm tra phân phối khách hàng theo quốc gia\n",
    "train['pais_residencia'].describe() "
   ]
  },
  {
   "cell_type": "markdown",
   "id": "5fc2feda",
   "metadata": {
    "papermill": {
     "duration": 0.010649,
     "end_time": "2025-02-13T19:00:11.819550",
     "exception": false,
     "start_time": "2025-02-13T19:00:11.808901",
     "status": "completed"
    },
    "tags": []
   },
   "source": [
    "> Ta có thể thấy top quốc gia là \"ES\". Nên ta sẽ loại bỏ bớt các quốc giá khác để có một tập dữ liệu tập trung."
   ]
  },
  {
   "cell_type": "code",
   "execution_count": 25,
   "id": "451272d5",
   "metadata": {
    "execution": {
     "iopub.execute_input": "2025-02-13T19:00:11.841767Z",
     "iopub.status.busy": "2025-02-13T19:00:11.841398Z",
     "iopub.status.idle": "2025-02-13T19:00:12.443861Z",
     "shell.execute_reply": "2025-02-13T19:00:12.443012Z"
    },
    "papermill": {
     "duration": 0.615195,
     "end_time": "2025-02-13T19:00:12.445398",
     "exception": false,
     "start_time": "2025-02-13T19:00:11.830203",
     "status": "completed"
    },
    "tags": []
   },
   "outputs": [],
   "source": [
    "train = train.loc[lambda train: train.pais_residencia == \"ES\", :]"
   ]
  },
  {
   "cell_type": "code",
   "execution_count": 26,
   "id": "ecf817aa",
   "metadata": {
    "execution": {
     "iopub.execute_input": "2025-02-13T19:00:12.469013Z",
     "iopub.status.busy": "2025-02-13T19:00:12.468709Z",
     "iopub.status.idle": "2025-02-13T19:00:12.506145Z",
     "shell.execute_reply": "2025-02-13T19:00:12.505228Z"
    },
    "papermill": {
     "duration": 0.050919,
     "end_time": "2025-02-13T19:00:12.507653",
     "exception": false,
     "start_time": "2025-02-13T19:00:12.456734",
     "status": "completed"
    },
    "tags": []
   },
   "outputs": [],
   "source": [
    "test = test.loc[lambda test: test.pais_residencia == \"ES\", :]"
   ]
  },
  {
   "cell_type": "code",
   "execution_count": 27,
   "id": "447b7690",
   "metadata": {
    "execution": {
     "iopub.execute_input": "2025-02-13T19:00:12.530703Z",
     "iopub.status.busy": "2025-02-13T19:00:12.530418Z",
     "iopub.status.idle": "2025-02-13T19:00:12.644831Z",
     "shell.execute_reply": "2025-02-13T19:00:12.643929Z"
    },
    "papermill": {
     "duration": 0.127456,
     "end_time": "2025-02-13T19:00:12.646180",
     "exception": false,
     "start_time": "2025-02-13T19:00:12.518724",
     "status": "completed"
    },
    "tags": []
   },
   "outputs": [
    {
     "data": {
      "text/plain": [
       "ind_empleado\n",
       "N    2492152\n",
       "B        718\n",
       "A        474\n",
       "F        468\n",
       "Name: count, dtype: int64"
      ]
     },
     "execution_count": 27,
     "metadata": {},
     "output_type": "execute_result"
    }
   ],
   "source": [
    "#Ta sẽ đếm thêm chỉ số nhân viên\n",
    "train['ind_empleado'].value_counts()"
   ]
  },
  {
   "cell_type": "markdown",
   "id": "996cc227",
   "metadata": {
    "papermill": {
     "duration": 0.010548,
     "end_time": "2025-02-13T19:00:12.667425",
     "exception": false,
     "start_time": "2025-02-13T19:00:12.656877",
     "status": "completed"
    },
    "tags": []
   },
   "source": [
    "> Ta thấy rằng nhân viên có chỉ số 'N' là nhiều nhất, cho nên ta tập trung vào nó"
   ]
  },
  {
   "cell_type": "code",
   "execution_count": 28,
   "id": "720cd171",
   "metadata": {
    "execution": {
     "iopub.execute_input": "2025-02-13T19:00:12.689816Z",
     "iopub.status.busy": "2025-02-13T19:00:12.689540Z",
     "iopub.status.idle": "2025-02-13T19:00:13.259317Z",
     "shell.execute_reply": "2025-02-13T19:00:13.258379Z"
    },
    "papermill": {
     "duration": 0.582885,
     "end_time": "2025-02-13T19:00:13.261063",
     "exception": false,
     "start_time": "2025-02-13T19:00:12.678178",
     "status": "completed"
    },
    "tags": []
   },
   "outputs": [],
   "source": [
    "train = train.loc[lambda train: train.ind_empleado == \"N\", :]"
   ]
  },
  {
   "cell_type": "code",
   "execution_count": 29,
   "id": "30e36c8e",
   "metadata": {
    "execution": {
     "iopub.execute_input": "2025-02-13T19:00:13.284342Z",
     "iopub.status.busy": "2025-02-13T19:00:13.283941Z",
     "iopub.status.idle": "2025-02-13T19:00:13.319622Z",
     "shell.execute_reply": "2025-02-13T19:00:13.318697Z"
    },
    "papermill": {
     "duration": 0.048856,
     "end_time": "2025-02-13T19:00:13.321245",
     "exception": false,
     "start_time": "2025-02-13T19:00:13.272389",
     "status": "completed"
    },
    "tags": []
   },
   "outputs": [],
   "source": [
    "test = test.loc[lambda test: test.ind_empleado == \"N\", :]"
   ]
  },
  {
   "cell_type": "markdown",
   "id": "4d4a1143",
   "metadata": {
    "papermill": {
     "duration": 0.051201,
     "end_time": "2025-02-13T19:00:13.383761",
     "exception": false,
     "start_time": "2025-02-13T19:00:13.332560",
     "status": "completed"
    },
    "tags": []
   },
   "source": [
    "Các dữ liệu đã được làm sạch, vậy cho nên ta sẽ đến phần tiếp theo "
   ]
  },
  {
   "cell_type": "markdown",
   "id": "c54a8538",
   "metadata": {
    "papermill": {
     "duration": 0.010641,
     "end_time": "2025-02-13T19:00:13.405663",
     "exception": false,
     "start_time": "2025-02-13T19:00:13.395022",
     "status": "completed"
    },
    "tags": []
   },
   "source": [
    "# Feature Engineering"
   ]
  },
  {
   "cell_type": "code",
   "execution_count": 30,
   "id": "4cb3859f",
   "metadata": {
    "execution": {
     "iopub.execute_input": "2025-02-13T19:00:13.429193Z",
     "iopub.status.busy": "2025-02-13T19:00:13.428820Z",
     "iopub.status.idle": "2025-02-13T19:00:14.138434Z",
     "shell.execute_reply": "2025-02-13T19:00:14.137739Z"
    },
    "papermill": {
     "duration": 0.723181,
     "end_time": "2025-02-13T19:00:14.139901",
     "exception": false,
     "start_time": "2025-02-13T19:00:13.416720",
     "status": "completed"
    },
    "tags": []
   },
   "outputs": [],
   "source": [
    "#Ta sẽ copy df ra một bản mới\n",
    "train_b = train.copy()"
   ]
  },
  {
   "cell_type": "markdown",
   "id": "edb0f54e",
   "metadata": {
    "papermill": {
     "duration": 0.010762,
     "end_time": "2025-02-13T19:00:14.162315",
     "exception": false,
     "start_time": "2025-02-13T19:00:14.151553",
     "status": "completed"
    },
    "tags": []
   },
   "source": [
    "Để xác định tốt hơn những thay đổi trong danh mục sản phẩm theo từng khách hàng, ta thêm một tính năng để hiển thị tháng quan sát (tức là tập dữ liệu bắt đầu vào tháng 1 năm 2015 là tháng 0 và tháng 2 năm 2015 là tháng 1)"
   ]
  },
  {
   "cell_type": "code",
   "execution_count": 31,
   "id": "bb17fc87",
   "metadata": {
    "execution": {
     "iopub.execute_input": "2025-02-13T19:00:14.184686Z",
     "iopub.status.busy": "2025-02-13T19:00:14.184443Z",
     "iopub.status.idle": "2025-02-13T19:00:15.548149Z",
     "shell.execute_reply": "2025-02-13T19:00:15.547444Z"
    },
    "papermill": {
     "duration": 1.37648,
     "end_time": "2025-02-13T19:00:15.549552",
     "exception": false,
     "start_time": "2025-02-13T19:00:14.173072",
     "status": "completed"
    },
    "tags": []
   },
   "outputs": [],
   "source": [
    "months = list(set(train_b[\"fecha_dato\"]))\n",
    "months.sort()\n",
    "\n",
    "def date_to_month(date):\n",
    "  month = months.index(date)\n",
    "  return month\n",
    "\n",
    "train_b[\"Month\"] = train_b[\"fecha_dato\"].apply(date_to_month)\n",
    "train_b[\"next_Month\"] = train_b[\"Month\"] + 1"
   ]
  },
  {
   "cell_type": "markdown",
   "id": "e051d2f8",
   "metadata": {
    "papermill": {
     "duration": 0.010926,
     "end_time": "2025-02-13T19:00:15.571726",
     "exception": false,
     "start_time": "2025-02-13T19:00:15.560800",
     "status": "completed"
    },
    "tags": []
   },
   "source": [
    "## Features"
   ]
  },
  {
   "cell_type": "markdown",
   "id": "daae307f",
   "metadata": {
    "papermill": {
     "duration": 0.010562,
     "end_time": "2025-02-13T19:00:15.593124",
     "exception": false,
     "start_time": "2025-02-13T19:00:15.582562",
     "status": "completed"
    },
    "tags": []
   },
   "source": [
    "Các tính năng hiện có\n",
    "Để sử dụng được nhiều loại danh mục khác nhau trong mô hình đã chọn, ta phải mã hóa các danh mục hai chiều thành các biến nhị phân và mã hóa một lần các danh mục đa chiều thành các biến nhị phân do ảnh hưởng của chúng đối với cả hai khung dữ liệu (tháng 1 năm 2015 - tháng 4 năm 2016, tháng 5 năm 2016)\n",
    "\n",
    "Các biến sau sẽ bị bỏ qua trong mô hình:\n",
    "- fecha_dato: Thay vì ngày thực tế,ta tập trung vào tháng của bản ghi, feature được tạo ở bước trước đó.\n",
    "- ind_empleado: Do giá trị có độ biến thiên cực thấp nên ta tập trung vào các bản ghi có giá trị chiếm ưu thế (tức là \"N\")\n",
    "- pais_residencia: Vì ta chỉ tập trung vào khách hàng Tây Ban Nha (như đã tìm thấy trong quá trình dọn dẹp dữ liệu), nên biến này là thừa\n",
    "- fecha_alta: Thay vì ngày thực tế, ta sẽ sử dụng thâm niên tính bằng tháng\n",
    "- indresi: Vì quốc gia cư trú của phần lớn khách hàng giống với quốc gia của ngân hàng ('S'), nên ta chỉ tập trung vào S và biến này là thừa\n",
    "   Ta loại bỏ các cột sản phẩm\n",
    "- ind_aval_fin_ult1 và ind_ahor_fin_ult1 vì như đã thấytrong phần khám phá và trực quan hóa dữ liệu 2 cái này rất ít"
   ]
  },
  {
   "cell_type": "code",
   "execution_count": 32,
   "id": "69ce471b",
   "metadata": {
    "execution": {
     "iopub.execute_input": "2025-02-13T19:00:15.616057Z",
     "iopub.status.busy": "2025-02-13T19:00:15.615746Z",
     "iopub.status.idle": "2025-02-13T19:00:16.956106Z",
     "shell.execute_reply": "2025-02-13T19:00:16.955399Z"
    },
    "papermill": {
     "duration": 1.353645,
     "end_time": "2025-02-13T19:00:16.957659",
     "exception": false,
     "start_time": "2025-02-13T19:00:15.604014",
     "status": "completed"
    },
    "tags": []
   },
   "outputs": [],
   "source": [
    "#Xóa các tính năng không cần thiết\n",
    "train_b.drop([\"fecha_dato\", \"ind_empleado\", \"pais_residencia\", 'fecha_alta','indresi','ind_aval_fin_ult1','ind_ahor_fin_ult1' ], axis = 1, inplace = True)\n",
    "\n",
    "#Chuyển kiểu dữ liệu thành kiểu category \n",
    "train_b[\"ind_nuevo\"] = train_b[\"ind_nuevo\"].astype(float).astype(int)\n",
    "to_be_coded = [\"sexo\", \"tiprel_1mes\", \"indext\", \"canal_entrada\", \"indfall\", \"nomprov\", \"segmento\"]\n",
    "for i in to_be_coded:\n",
    "    train_b[i] = train_b[i].astype('category') \n",
    "    train_b[i] = train_b[i].cat.codes"
   ]
  },
  {
   "cell_type": "code",
   "execution_count": 33,
   "id": "8253b3a5",
   "metadata": {
    "execution": {
     "iopub.execute_input": "2025-02-13T19:00:16.982407Z",
     "iopub.status.busy": "2025-02-13T19:00:16.982147Z",
     "iopub.status.idle": "2025-02-13T19:00:17.069021Z",
     "shell.execute_reply": "2025-02-13T19:00:17.068320Z"
    },
    "papermill": {
     "duration": 0.100142,
     "end_time": "2025-02-13T19:00:17.070520",
     "exception": false,
     "start_time": "2025-02-13T19:00:16.970378",
     "status": "completed"
    },
    "tags": []
   },
   "outputs": [],
   "source": [
    "#Xóa các tính năng của df_may tương tự \n",
    "test.drop([\"fecha_dato\", \"ind_empleado\", \"pais_residencia\", 'fecha_alta','indresi'], axis = 1, inplace = True)\n",
    "\n",
    "#Chuyển kiểu dữ liệu thành category\n",
    "test[\"ind_nuevo\"] = test[\"ind_nuevo\"].astype(float).astype(int)  \n",
    "\n",
    "to_be_coded = [\"sexo\", \"tiprel_1mes\", \"indext\", \"canal_entrada\", \"indfall\", \"nomprov\", \"segmento\"]\n",
    "for i in to_be_coded:\n",
    "    test[i] = test[i].astype('category') \n",
    "    test[i] = test[i].cat.codes"
   ]
  },
  {
   "cell_type": "code",
   "execution_count": 34,
   "id": "9dec34a4",
   "metadata": {
    "execution": {
     "iopub.execute_input": "2025-02-13T19:00:17.093399Z",
     "iopub.status.busy": "2025-02-13T19:00:17.093157Z",
     "iopub.status.idle": "2025-02-13T19:00:17.096499Z",
     "shell.execute_reply": "2025-02-13T19:00:17.095857Z"
    },
    "papermill": {
     "duration": 0.015776,
     "end_time": "2025-02-13T19:00:17.097686",
     "exception": false,
     "start_time": "2025-02-13T19:00:17.081910",
     "status": "completed"
    },
    "tags": []
   },
   "outputs": [],
   "source": [
    "#Tạo tên cột cho từng sản phẩm \n",
    "labels = train_b.columns\n",
    "products = list(filter(lambda k: 'ult' in k, labels))"
   ]
  },
  {
   "cell_type": "code",
   "execution_count": 35,
   "id": "efbbc4f8",
   "metadata": {
    "execution": {
     "iopub.execute_input": "2025-02-13T19:00:17.119949Z",
     "iopub.status.busy": "2025-02-13T19:00:17.119733Z",
     "iopub.status.idle": "2025-02-13T19:00:17.123882Z",
     "shell.execute_reply": "2025-02-13T19:00:17.123288Z"
    },
    "papermill": {
     "duration": 0.016528,
     "end_time": "2025-02-13T19:00:17.124969",
     "exception": false,
     "start_time": "2025-02-13T19:00:17.108441",
     "status": "completed"
    },
    "tags": []
   },
   "outputs": [
    {
     "data": {
      "text/plain": [
       "22"
      ]
     },
     "execution_count": 35,
     "metadata": {},
     "output_type": "execute_result"
    }
   ],
   "source": [
    "len(products)"
   ]
  },
  {
   "cell_type": "markdown",
   "id": "4f5228c8",
   "metadata": {
    "papermill": {
     "duration": 0.010616,
     "end_time": "2025-02-13T19:00:17.146419",
     "exception": false,
     "start_time": "2025-02-13T19:00:17.135803",
     "status": "completed"
    },
    "tags": []
   },
   "source": [
    "## New Features \n",
    "Bộ dữ liệu hiện tại của ta bao gồm thông tin về từng khách hàng và các sản phẩm đang hoạt động của họ. Mục tiêu của mô hình là tìm ra sản phẩm nào mà khách hàng có khả năng mua nhiều nhất. Do đó, sẽ có lợi nếu ``tập trung vào sự thay đổi của sản phẩm đối với từng khách hàng và từng tháng``. Đối với điều này, ta sẽ tạo thêm các tính năng độ trễ (lag features) cho từng sản phẩm và từng tháng, mô tả:\n",
    "\n",
    "1. Sản phẩm đã hoạt động trong bao lâu trong những tháng trước? (product_cumsum):\n",
    "Tính năng này tóm tắt các tháng sản phẩm đã hoạt động trước tháng của bản ghi được chuẩn hóa theo số tháng cho đến bản ghi.Ví dụ: nếu sản phẩm đã hoạt động trong thời gian dài với khách hàng, thì tức là khách hàng thích sản phẩm đấy. Bỏ qua lý do ngoài lề khiến sản phẩm ngừng bán, nói chung là tính năng này sẽ tính được khả năng sản phẩm đó có được khách hàng chọn lại hay không\n",
    "\n",
    "3. Quyền sở hữu sản phẩm đã thay đổi như thế nào so với tháng trước (product_change):\n",
    "Tính năng này cho biết sản phẩm đã bị loại bỏ (-1) hay được thêm vào (1) hoặc không có gì xảy ra với sản phẩm đó (0) so với tháng trước. Ở đây, chúng ta có thể cho rằng nếu một sản phẩm chỉ mới bị loại bỏ cách đây một tháng, thì khả năng sản phẩm đó được chọn lại có thể thấp hơn so với sản phẩm khác\n",
    "\n",
    "\n",
    "5. Có bao nhiêu giao dịch (đã thêm và đã loại bỏ) liên quan đến sản phẩm (product_transaction):\n",
    "Tính năng này tổng hợp tất cả các giao dịch cho từng sản phẩm cho đến tháng ghi chép. Nếu một sản phẩm đã được thêm và loại bỏ nhiều lần, thì khả năng sản phẩm đó được thêm lại có thể cao hơn."
   ]
  },
  {
   "cell_type": "code",
   "execution_count": 36,
   "id": "0e229ca5",
   "metadata": {
    "execution": {
     "iopub.execute_input": "2025-02-13T19:00:17.168678Z",
     "iopub.status.busy": "2025-02-13T19:00:17.168464Z",
     "iopub.status.idle": "2025-02-13T19:00:34.226272Z",
     "shell.execute_reply": "2025-02-13T19:00:34.225492Z"
    },
    "papermill": {
     "duration": 17.070602,
     "end_time": "2025-02-13T19:00:34.227828",
     "exception": false,
     "start_time": "2025-02-13T19:00:17.157226",
     "status": "completed"
    },
    "tags": []
   },
   "outputs": [],
   "source": [
    "# 1.Sản phẩm đã hoạt động trong bao lâu trong những tháng trước \n",
    "\n",
    "#Mục tiêu là tạo cột cho mỗi sản phẩm,  tóm tắt thời gian hoạt động của sản phẩm trong tháng trước cho từng khách hàng\n",
    "\n",
    "#Đầu tiên ta tạo bản sao của bạn bằng cách loại bỏ tất cả các tính năng(features) không cần thiết cho hoạt động này\n",
    "train_c = train_b.copy()\n",
    "df_products_only = pd.concat([train_c[[\"ncodpers\", \"Month\"]], train_c.filter(regex = \"ult\" )], axis=1)\n",
    "df_products_only.sort_values(by = \"Month\", inplace = True)\n",
    "\n",
    "#Bây giờ ta tạo một DF nhóm theo cho mỗi tháng để tổng hợp các tháng hoạt động và nối các kết quả với nhau\n",
    "df_product_sum = pd.DataFrame()\n",
    "for i in set(df_products_only[\"Month\"]):\n",
    "    zz = df_products_only[df_products_only[\"ncodpers\"].isin(df_products_only[df_products_only[\"Month\"] == i][\"ncodpers\"])]\n",
    "    z = zz[zz[\"Month\"] < i+1].drop(\"Month\", axis = 1).groupby(by = [\"ncodpers\"]).sum().reset_index()    \n",
    "    z[\"Month\"] = i\n",
    "    df_product_sum = pd.concat([df_product_sum, z])\n",
    "    \n",
    "#Sau đó, chúng ta chuẩn hóa các cột bằng cách chia nó cho số tháng\n",
    "for i in products:\n",
    "  df_product_sum[i] = df_product_sum[i]/df_product_sum[\"Month\"]\n",
    "\n",
    "#Vì ta chia cho O để ghi lại trong tháng đầu tiên nên ta phải thay NaN bằng 0\n",
    "df_product_sum.fillna(0, inplace = True)\n",
    "df_product_sum.replace([np.inf, -np.inf], 0, inplace=True)\n",
    "\n",
    "#Bây giờ ta mở rộng featureDf ban đầu của mình bằng cách hợp nhất nó với feature này\n",
    "df_features= train_b.merge(df_product_sum, on = [\"ncodpers\", \"Month\"], suffixes = [\"\", \"_cumsum\"])"
   ]
  },
  {
   "cell_type": "code",
   "execution_count": 37,
   "id": "727c8217",
   "metadata": {
    "execution": {
     "iopub.execute_input": "2025-02-13T19:00:34.250939Z",
     "iopub.status.busy": "2025-02-13T19:00:34.250688Z",
     "iopub.status.idle": "2025-02-13T19:00:40.706963Z",
     "shell.execute_reply": "2025-02-13T19:00:40.706269Z"
    },
    "papermill": {
     "duration": 6.469323,
     "end_time": "2025-02-13T19:00:40.708560",
     "exception": false,
     "start_time": "2025-02-13T19:00:34.239237",
     "status": "completed"
    },
    "tags": []
   },
   "outputs": [],
   "source": [
    "# 2. Việc sở hữu sản phẩm đã thay đổi như thế nào so với tháng trước\n",
    "\n",
    "## Đầu tiên, ta tạo hai bản sao của df của chúng ta, loại bỏ tất cả các tính năng(features) không cần thiết cho hoạt động này. \n",
    "train_d = train_b.copy()  #df chứa một cột bổ sung với tháng trước đó được sử dụng để mở rộng bản ghi với các bản ghi của tháng trước đó\n",
    "df_products_only = pd.concat([train_d[[\"ncodpers\", \"Month\"]], train_d.filter(regex = \"ult\" )], axis=1)\n",
    "df_products_only2 = df_products_only.copy()\n",
    "df_products_only[\"prev_Month\"] = df_products_only[\"Month\"] -1\n",
    "\n",
    "#Gộp cả hai khung dữ liệu với nhau để tạo một df có thông tin về tháng hiện tại và tháng trước:\n",
    "df_change = df_products_only.merge(df_products_only2, left_on = [\"ncodpers\", \"prev_Month\"], right_on = [\"ncodpers\", \"Month\"], suffixes = [\"\", \"_previous\"], how = \"left\")\n",
    "\n",
    "## Tính toán sự thay đổi của sản phẩm bằng cách trừ trạng thái sản phẩm hiện tại với trạng thái sản phẩm\n",
    "for i in products:\n",
    "  current_prod = i \n",
    "  prev_prod = i + \"_previous\"\n",
    "  change = i + \"_change\"\n",
    "  df_change[change] = df_change[current_prod] - df_change[prev_prod]\n",
    "  df_change[change].astype(int, errors = \"ignore\")\n",
    "\n",
    "## Điền 0 vào NaN vì không có thay đổi nào trong Tháng 0\n",
    "df_change.fillna(0, inplace = True)\n",
    "\n",
    "#Một số mô hình có thể bị lỗi với các giá trị âm vì vậy ta thêm 1 vào tất cả các giá trị\n",
    "df_change = df_change + 1\n",
    "\n",
    "# Hợp nhất df thay đổi với df tính năng (feature df) \n",
    "df_features2 = pd.concat([df_features, df_change.filter(regex = \"change\" )], axis=1)"
   ]
  },
  {
   "cell_type": "code",
   "execution_count": 38,
   "id": "e4a37c84",
   "metadata": {
    "execution": {
     "iopub.execute_input": "2025-02-13T19:00:40.732399Z",
     "iopub.status.busy": "2025-02-13T19:00:40.732125Z",
     "iopub.status.idle": "2025-02-13T19:01:17.024001Z",
     "shell.execute_reply": "2025-02-13T19:01:17.023259Z"
    },
    "papermill": {
     "duration": 36.305672,
     "end_time": "2025-02-13T19:01:17.025614",
     "exception": false,
     "start_time": "2025-02-13T19:00:40.719942",
     "status": "completed"
    },
    "tags": []
   },
   "outputs": [],
   "source": [
    "# 3.Có bao nhiêu giao dịch đã tồn tại liên quan đến sản phẩm\n",
    "\n",
    "# Mục tiêu là tạo một cột hiển thị số lần sản phẩm được thêm vào hoặc xóa cho đến thời điểm ghi chép\n",
    "# Đầu tiên,ta thay đổi giá trị của change_columns từ 0 thành 1 nếu phát sinh giao dịch \n",
    "def change_to_transaction(x):\n",
    "    if x != 0:\n",
    "        y = 1\n",
    "    else:\n",
    "        y = 0\n",
    "    return y\n",
    "df_transaction = pd.DataFrame()\n",
    "\n",
    "for i in df_change.filter(regex = \"change\" ).columns.values:\n",
    "    j = i[:-7] + \"_transaction\"\n",
    "    df_transaction[j] = df_change.filter(regex = \"change\" )[i].apply(change_to_transaction)\n",
    "df_transaction = pd.concat([df_features2[[\"ncodpers\", \"Month\"]], df_transaction], axis=1)\n",
    "\n",
    "#Bây giờ ta tạo một số DF cho mỗi tháng để tổng hợp số lượng giao dịch cho đến tháng tương ứng và nối các kết quả với nhau\n",
    "df_transaction_sum = pd.DataFrame()\n",
    "for i in set(df_transaction[\"Month\"]):\n",
    "    z = df_transaction[df_transaction[\"Month\"] < i+1].drop(\"Month\", axis = 1).groupby(by = [\"ncodpers\"]).sum().reset_index()    \n",
    "    z[\"Month\"] = i\n",
    "    df_transaction_sum = pd.concat([df_transaction_sum, z])\n",
    "\n",
    "#Cuối cùng, ta hợp nhất nó với tính năng mới nhất của ta là DF\n",
    "df_features3 = df_features2.merge(df_transaction_sum, on = [\"ncodpers\", \"Month\"], suffixes = [\"\", \"_cumsum\"])"
   ]
  },
  {
   "cell_type": "code",
   "execution_count": 39,
   "id": "c082f617",
   "metadata": {
    "execution": {
     "iopub.execute_input": "2025-02-13T19:01:17.048923Z",
     "iopub.status.busy": "2025-02-13T19:01:17.048685Z",
     "iopub.status.idle": "2025-02-13T19:01:17.053138Z",
     "shell.execute_reply": "2025-02-13T19:01:17.052317Z"
    },
    "papermill": {
     "duration": 0.017186,
     "end_time": "2025-02-13T19:01:17.054356",
     "exception": false,
     "start_time": "2025-02-13T19:01:17.037170",
     "status": "completed"
    },
    "tags": []
   },
   "outputs": [
    {
     "data": {
      "text/plain": [
       "2492152"
      ]
     },
     "execution_count": 39,
     "metadata": {},
     "output_type": "execute_result"
    }
   ],
   "source": [
    "len(df_features3)"
   ]
  },
  {
   "cell_type": "markdown",
   "id": "740b9b54",
   "metadata": {
    "papermill": {
     "duration": 0.010379,
     "end_time": "2025-02-13T19:01:17.076285",
     "exception": false,
     "start_time": "2025-02-13T19:01:17.065906",
     "status": "completed"
    },
    "tags": []
   },
   "source": [
    "## Target Variables \n",
    "\n",
    "Các biến mục tiêu của ta cho biết liệu sản phẩm có được thêm vào hay không"
   ]
  },
  {
   "cell_type": "code",
   "execution_count": 40,
   "id": "23939c46",
   "metadata": {
    "execution": {
     "iopub.execute_input": "2025-02-13T19:01:17.098661Z",
     "iopub.status.busy": "2025-02-13T19:01:17.098399Z",
     "iopub.status.idle": "2025-02-13T19:01:20.116356Z",
     "shell.execute_reply": "2025-02-13T19:01:20.115351Z"
    },
    "papermill": {
     "duration": 3.030963,
     "end_time": "2025-02-13T19:01:20.117931",
     "exception": false,
     "start_time": "2025-02-13T19:01:17.086968",
     "status": "completed"
    },
    "tags": []
   },
   "outputs": [],
   "source": [
    "df_two_months = train_b.merge(train_b, left_on = [\"ncodpers\", \"next_Month\"], right_on = [\"ncodpers\", \"Month\"], suffixes = [\"_actual\", \"_next\"])\n",
    "y_status =df_two_months.filter(regex='ult1_actual')"
   ]
  },
  {
   "cell_type": "code",
   "execution_count": 41,
   "id": "af2c1b97",
   "metadata": {
    "execution": {
     "iopub.execute_input": "2025-02-13T19:01:20.141839Z",
     "iopub.status.busy": "2025-02-13T19:01:20.141486Z",
     "iopub.status.idle": "2025-02-13T19:01:40.192061Z",
     "shell.execute_reply": "2025-02-13T19:01:40.191355Z"
    },
    "papermill": {
     "duration": 20.064145,
     "end_time": "2025-02-13T19:01:40.193688",
     "exception": false,
     "start_time": "2025-02-13T19:01:20.129543",
     "status": "completed"
    },
    "tags": []
   },
   "outputs": [],
   "source": [
    "#Mục tiêu là tạo một df với thông tin sẽ được thêm vào trong tháng tới\n",
    "\n",
    "#Đầu tiên, ta hợp nhất DF gốc với chính nó để thêm thông tin sản phẩm của tháng tiếp theo vào mỗi bản ghi\n",
    "\n",
    "df_two_months = train_b.merge(train_b, left_on = [\"ncodpers\", \"next_Month\"], right_on = [\"ncodpers\", \"Month\"], suffixes = [\"_actual\", \"next\"])\n",
    "\n",
    "# Tính toán sự thay đổi của sản phẩm bằng cách trừ trạng thái sản phẩm của tháng tiếp theo với trạng thái sản phẩm của tháng hiện tại\n",
    "for i in products:\n",
    "  next_prod = i + \"next\"\n",
    "  actual_prod = i + \"_actual\"\n",
    "  change = i + \"_change\"\n",
    "  df_two_months[change] = df_two_months[next_prod] - df_two_months[actual_prod]\n",
    "  df_two_months[change].astype(int, errors = \"ignore\")\n",
    "\n",
    "# Bây giờ ta xóa tất cả các cột ngoại trừ những cột có sự thay đổi\n",
    "df_change2 = df_two_months.filter(regex='change')\n",
    "\n",
    "#Sau đó, ta thay đổi giá trị của các cột mục đích là để hiển thị rằng sản phẩm đã được thêm hay chưa \n",
    "def activate (x):\n",
    "  if x == 1:\n",
    "    y = 1\n",
    "  else:\n",
    "    y = 0\n",
    "  return y\n",
    "\n",
    "iterCol = df_change2.columns.values\n",
    "\n",
    "for i in iterCol:\n",
    "  colName = i[:-7]+\"_activated\"\n",
    "  df_change2[colName] = df_change2[i].apply(activate)\n",
    "\n",
    "\n",
    "y_activated = df_change2.filter(regex='_activated')"
   ]
  },
  {
   "cell_type": "markdown",
   "id": "2d64d055",
   "metadata": {
    "papermill": {
     "duration": 0.011885,
     "end_time": "2025-02-13T19:01:40.218931",
     "exception": false,
     "start_time": "2025-02-13T19:01:40.207046",
     "status": "completed"
    },
    "tags": []
   },
   "source": [
    "## X và Y "
   ]
  },
  {
   "cell_type": "code",
   "execution_count": 42,
   "id": "516e66ab",
   "metadata": {
    "execution": {
     "iopub.execute_input": "2025-02-13T19:01:40.241247Z",
     "iopub.status.busy": "2025-02-13T19:01:40.240949Z",
     "iopub.status.idle": "2025-02-13T19:01:42.640370Z",
     "shell.execute_reply": "2025-02-13T19:01:42.639565Z"
    },
    "papermill": {
     "duration": 2.412148,
     "end_time": "2025-02-13T19:01:42.641847",
     "exception": false,
     "start_time": "2025-02-13T19:01:40.229699",
     "status": "completed"
    },
    "tags": []
   },
   "outputs": [],
   "source": [
    "#Đầu tiên ta xóa các tính năng(features) từ tháng trước , vì ta sẽ sử dụng chúng để dự đoán các đề xuất của mình từ tháng55\n",
    "df_features_june_prediction = df_features3[df_features[\"Month\"] == df_features3[\"Month\"].max()]\n",
    "df_features_training = df_features3[df_features3[\"Month\"] < df_features3[\"Month\"].max()]\n",
    "\n",
    "#Bãy xóa các hàng còn lại không có biến mục tiêu:\n",
    "df_features_training = df_features_training[df_features_training[\"index\"].isin(df_two_months[\"index_actual\"])]\n",
    "\n",
    "\n",
    "#Bây giờ hãy bỏ định danh để chúng ta chỉ có các tính năng(features)\n",
    "X_may = df_features_june_prediction.drop([\"index\", \"Month\",\"next_Month\"], axis = 1)\n",
    "X = df_features_training.drop([\"index\",\"ncodpers\", \"Month\",\"next_Month\"], axis = 1)\n",
    "     "
   ]
  },
  {
   "cell_type": "markdown",
   "id": "a9ad30ee",
   "metadata": {
    "papermill": {
     "duration": 0.010567,
     "end_time": "2025-02-13T19:01:42.663630",
     "exception": false,
     "start_time": "2025-02-13T19:01:42.653063",
     "status": "completed"
    },
    "tags": []
   },
   "source": [
    "> Chúng tôi cũng phải hợp nhất thông tin của các sản phẩm từ tháng 4 năm 2016 với khung dữ liệu của tháng 5 năm 2016 để dự đoán sản phẩm sẽ được đề xuất cho tháng 5 năm 2016."
   ]
  },
  {
   "cell_type": "code",
   "execution_count": 43,
   "id": "a1e9d95f",
   "metadata": {
    "execution": {
     "iopub.execute_input": "2025-02-13T19:01:42.686096Z",
     "iopub.status.busy": "2025-02-13T19:01:42.685808Z",
     "iopub.status.idle": "2025-02-13T19:01:43.008803Z",
     "shell.execute_reply": "2025-02-13T19:01:43.007984Z"
    },
    "papermill": {
     "duration": 0.335754,
     "end_time": "2025-02-13T19:01:43.010256",
     "exception": false,
     "start_time": "2025-02-13T19:01:42.674502",
     "status": "completed"
    },
    "tags": []
   },
   "outputs": [],
   "source": [
    "#X_may chứa thông tin từ tháng 4 nhưng chỉ dành cho thông tin sản phẩm\n",
    "#Đối với thông khách hàng, ta sử dụng thông tin có sẵn từ tháng 5 năm 2016 (tức là test ở trên)\n",
    "#Do đó, ta phải xóa chúng khỏi X_may và hợp nhất X_may đã giảm với df_may\n",
    "to_drop = ['sexo', 'age', 'ind_nuevo', 'antiguedad', 'indrel',\n",
    "       'indrel_1mes', 'tiprel_1mes', 'indext', 'canal_entrada', 'indfall',\n",
    "       'tipodom', 'cod_prov', 'nomprov', 'ind_actividad_cliente', 'renta',\n",
    "       'segmento']\n",
    "\n",
    "X_may.drop(to_drop, inplace = True, axis = 1)\n",
    "\n",
    "X_may = test.merge(X_may, on = \"ncodpers\", how = \"inner\")\n",
    "index = X_may.ncodpers\n",
    "X_may.drop([\"ncodpers\", \"index\"], inplace = True, axis = 1)"
   ]
  },
  {
   "cell_type": "code",
   "execution_count": null,
   "id": "831a8969",
   "metadata": {
    "papermill": {
     "duration": 0.010586,
     "end_time": "2025-02-13T19:01:43.032306",
     "exception": false,
     "start_time": "2025-02-13T19:01:43.021720",
     "status": "completed"
    },
    "tags": []
   },
   "outputs": [],
   "source": []
  },
  {
   "cell_type": "markdown",
   "id": "9738ff32",
   "metadata": {
    "papermill": {
     "duration": 0.010686,
     "end_time": "2025-02-13T19:01:43.053535",
     "exception": false,
     "start_time": "2025-02-13T19:01:43.042849",
     "status": "completed"
    },
    "tags": []
   },
   "source": [
    "Ta chỉ quan tâm đến các mục có giao dịch (tức là một sản phẩm được thêm vào) trong một tháng nhất định, vì:\n",
    "- Giao dịch là một việc tương đối hiếm. Do đó, rất nhiều dữ liệu còn thưa thớt liên quan đến giao dịch\n",
    "- Hành vi của khách hàng có thể phụ thuộc vào thời điểm trong năm với xu hướng theo mùa. Do đó ta sẽ đào tạo một mô hình cho một tháng nhất định chỉ   với dữ liệu từ tháng đó từ những năm trước"
   ]
  },
  {
   "cell_type": "code",
   "execution_count": 44,
   "id": "d4edccd3",
   "metadata": {
    "execution": {
     "iopub.execute_input": "2025-02-13T19:01:43.076085Z",
     "iopub.status.busy": "2025-02-13T19:01:43.075766Z",
     "iopub.status.idle": "2025-02-13T19:01:45.359847Z",
     "shell.execute_reply": "2025-02-13T19:01:45.359154Z"
    },
    "papermill": {
     "duration": 2.297446,
     "end_time": "2025-02-13T19:01:45.361536",
     "exception": false,
     "start_time": "2025-02-13T19:01:43.064090",
     "status": "completed"
    },
    "tags": []
   },
   "outputs": [],
   "source": [
    "def specify_df(transaction_only = True, month = \"\"):\n",
    "  if transaction_only == True:\n",
    "    sum = y_activated.sum(axis=1)\n",
    "    if month != \"\":\n",
    "      y_only_transaction = y_activated[(sum > 0) & (dfb[\"Month\"] == month)]\n",
    "      x_only_transaction = X[(sum > 0) & (dfb[\"Month\"] == month)]\n",
    "    else:\n",
    "      y_only_transaction = y_activated[(sum > 0)]\n",
    "      X1 = X.reset_index(drop = True)\n",
    "      x_only_transaction = X1[(sum > 0)]\n",
    "  else:\n",
    "    y_only_transaction = y_activated[dfb[\"Month\"] == month]\n",
    "    x_only_transaction = X[dfb[\"Month\"] == month]\n",
    "\n",
    "  return x_only_transaction, y_only_transaction\n",
    "\n",
    "#applying it\n",
    "x1,y1 = specify_df(True)"
   ]
  },
  {
   "cell_type": "markdown",
   "id": "ac8f67c9",
   "metadata": {
    "papermill": {
     "duration": 0.011361,
     "end_time": "2025-02-13T19:01:45.385200",
     "exception": false,
     "start_time": "2025-02-13T19:01:45.373839",
     "status": "completed"
    },
    "tags": []
   },
   "source": [
    "# Nháp "
   ]
  },
  {
   "cell_type": "code",
   "execution_count": 45,
   "id": "c70f1287",
   "metadata": {
    "execution": {
     "iopub.execute_input": "2025-02-13T19:01:45.407431Z",
     "iopub.status.busy": "2025-02-13T19:01:45.407168Z",
     "iopub.status.idle": "2025-02-13T19:01:45.668016Z",
     "shell.execute_reply": "2025-02-13T19:01:45.667251Z"
    },
    "papermill": {
     "duration": 0.273856,
     "end_time": "2025-02-13T19:01:45.669632",
     "exception": false,
     "start_time": "2025-02-13T19:01:45.395776",
     "status": "completed"
    },
    "tags": []
   },
   "outputs": [],
   "source": [
    "from sklearn.model_selection import train_test_split\n",
    "X_train, X_test, y_train, y_test = train_test_split(x1, y1, random_state=42)"
   ]
  },
  {
   "cell_type": "code",
   "execution_count": 46,
   "id": "99cb2bc9",
   "metadata": {
    "execution": {
     "iopub.execute_input": "2025-02-13T19:01:45.692679Z",
     "iopub.status.busy": "2025-02-13T19:01:45.692408Z",
     "iopub.status.idle": "2025-02-13T19:01:45.926627Z",
     "shell.execute_reply": "2025-02-13T19:01:45.925699Z"
    },
    "papermill": {
     "duration": 0.247197,
     "end_time": "2025-02-13T19:01:45.928249",
     "exception": false,
     "start_time": "2025-02-13T19:01:45.681052",
     "status": "completed"
    },
    "tags": []
   },
   "outputs": [],
   "source": [
    "from xgboost import XGBClassifier\n",
    "from sklearn.multioutput import MultiOutputClassifier\n",
    "from sklearn.metrics import precision_score\n",
    "from sklearn.metrics import accuracy_score\n",
    "from sklearn.metrics import classification_report"
   ]
  },
  {
   "cell_type": "code",
   "execution_count": 47,
   "id": "e63648c2",
   "metadata": {
    "execution": {
     "iopub.execute_input": "2025-02-13T19:01:45.951322Z",
     "iopub.status.busy": "2025-02-13T19:01:45.951057Z",
     "iopub.status.idle": "2025-02-13T19:02:07.479492Z",
     "shell.execute_reply": "2025-02-13T19:02:07.478625Z"
    },
    "papermill": {
     "duration": 21.541201,
     "end_time": "2025-02-13T19:02:07.480944",
     "exception": false,
     "start_time": "2025-02-13T19:01:45.939743",
     "status": "completed"
    },
    "tags": []
   },
   "outputs": [
    {
     "data": {
      "text/html": [
       "<style>#sk-container-id-1 {color: black;background-color: white;}#sk-container-id-1 pre{padding: 0;}#sk-container-id-1 div.sk-toggleable {background-color: white;}#sk-container-id-1 label.sk-toggleable__label {cursor: pointer;display: block;width: 100%;margin-bottom: 0;padding: 0.3em;box-sizing: border-box;text-align: center;}#sk-container-id-1 label.sk-toggleable__label-arrow:before {content: \"▸\";float: left;margin-right: 0.25em;color: #696969;}#sk-container-id-1 label.sk-toggleable__label-arrow:hover:before {color: black;}#sk-container-id-1 div.sk-estimator:hover label.sk-toggleable__label-arrow:before {color: black;}#sk-container-id-1 div.sk-toggleable__content {max-height: 0;max-width: 0;overflow: hidden;text-align: left;background-color: #f0f8ff;}#sk-container-id-1 div.sk-toggleable__content pre {margin: 0.2em;color: black;border-radius: 0.25em;background-color: #f0f8ff;}#sk-container-id-1 input.sk-toggleable__control:checked~div.sk-toggleable__content {max-height: 200px;max-width: 100%;overflow: auto;}#sk-container-id-1 input.sk-toggleable__control:checked~label.sk-toggleable__label-arrow:before {content: \"▾\";}#sk-container-id-1 div.sk-estimator input.sk-toggleable__control:checked~label.sk-toggleable__label {background-color: #d4ebff;}#sk-container-id-1 div.sk-label input.sk-toggleable__control:checked~label.sk-toggleable__label {background-color: #d4ebff;}#sk-container-id-1 input.sk-hidden--visually {border: 0;clip: rect(1px 1px 1px 1px);clip: rect(1px, 1px, 1px, 1px);height: 1px;margin: -1px;overflow: hidden;padding: 0;position: absolute;width: 1px;}#sk-container-id-1 div.sk-estimator {font-family: monospace;background-color: #f0f8ff;border: 1px dotted black;border-radius: 0.25em;box-sizing: border-box;margin-bottom: 0.5em;}#sk-container-id-1 div.sk-estimator:hover {background-color: #d4ebff;}#sk-container-id-1 div.sk-parallel-item::after {content: \"\";width: 100%;border-bottom: 1px solid gray;flex-grow: 1;}#sk-container-id-1 div.sk-label:hover label.sk-toggleable__label {background-color: #d4ebff;}#sk-container-id-1 div.sk-serial::before {content: \"\";position: absolute;border-left: 1px solid gray;box-sizing: border-box;top: 0;bottom: 0;left: 50%;z-index: 0;}#sk-container-id-1 div.sk-serial {display: flex;flex-direction: column;align-items: center;background-color: white;padding-right: 0.2em;padding-left: 0.2em;position: relative;}#sk-container-id-1 div.sk-item {position: relative;z-index: 1;}#sk-container-id-1 div.sk-parallel {display: flex;align-items: stretch;justify-content: center;background-color: white;position: relative;}#sk-container-id-1 div.sk-item::before, #sk-container-id-1 div.sk-parallel-item::before {content: \"\";position: absolute;border-left: 1px solid gray;box-sizing: border-box;top: 0;bottom: 0;left: 50%;z-index: -1;}#sk-container-id-1 div.sk-parallel-item {display: flex;flex-direction: column;z-index: 1;position: relative;background-color: white;}#sk-container-id-1 div.sk-parallel-item:first-child::after {align-self: flex-end;width: 50%;}#sk-container-id-1 div.sk-parallel-item:last-child::after {align-self: flex-start;width: 50%;}#sk-container-id-1 div.sk-parallel-item:only-child::after {width: 0;}#sk-container-id-1 div.sk-dashed-wrapped {border: 1px dashed gray;margin: 0 0.4em 0.5em 0.4em;box-sizing: border-box;padding-bottom: 0.4em;background-color: white;}#sk-container-id-1 div.sk-label label {font-family: monospace;font-weight: bold;display: inline-block;line-height: 1.2em;}#sk-container-id-1 div.sk-label-container {text-align: center;}#sk-container-id-1 div.sk-container {/* jupyter's `normalize.less` sets `[hidden] { display: none; }` but bootstrap.min.css set `[hidden] { display: none !important; }` so we also need the `!important` here to be able to override the default hidden behavior on the sphinx rendered scikit-learn.org. See: https://github.com/scikit-learn/scikit-learn/issues/21755 */display: inline-block !important;position: relative;}#sk-container-id-1 div.sk-text-repr-fallback {display: none;}</style><div id=\"sk-container-id-1\" class=\"sk-top-container\"><div class=\"sk-text-repr-fallback\"><pre>MultiOutputClassifier(estimator=XGBClassifier(base_score=None, booster=None,\n",
       "                                              callbacks=None,\n",
       "                                              colsample_bylevel=None,\n",
       "                                              colsample_bynode=None,\n",
       "                                              colsample_bytree=None,\n",
       "                                              device=None,\n",
       "                                              early_stopping_rounds=None,\n",
       "                                              enable_categorical=False,\n",
       "                                              eval_metric=None,\n",
       "                                              feature_types=None, gamma=None,\n",
       "                                              grow_policy=None,\n",
       "                                              importance_type=None,\n",
       "                                              interaction_constraints=None,\n",
       "                                              learning_rate=None, max_bin=None,\n",
       "                                              max_cat_threshold=None,\n",
       "                                              max_cat_to_onehot=None,\n",
       "                                              max_delta_step=None,\n",
       "                                              max_depth=None, max_leaves=None,\n",
       "                                              min_child_weight=None,\n",
       "                                              missing=nan,\n",
       "                                              monotone_constraints=None,\n",
       "                                              multi_strategy=None,\n",
       "                                              n_estimators=None, n_jobs=None,\n",
       "                                              num_parallel_tree=None,\n",
       "                                              random_state=None, ...))</pre><b>In a Jupyter environment, please rerun this cell to show the HTML representation or trust the notebook. <br />On GitHub, the HTML representation is unable to render, please try loading this page with nbviewer.org.</b></div><div class=\"sk-container\" hidden><div class=\"sk-item sk-dashed-wrapped\"><div class=\"sk-label-container\"><div class=\"sk-label sk-toggleable\"><input class=\"sk-toggleable__control sk-hidden--visually\" id=\"sk-estimator-id-1\" type=\"checkbox\" ><label for=\"sk-estimator-id-1\" class=\"sk-toggleable__label sk-toggleable__label-arrow\">MultiOutputClassifier</label><div class=\"sk-toggleable__content\"><pre>MultiOutputClassifier(estimator=XGBClassifier(base_score=None, booster=None,\n",
       "                                              callbacks=None,\n",
       "                                              colsample_bylevel=None,\n",
       "                                              colsample_bynode=None,\n",
       "                                              colsample_bytree=None,\n",
       "                                              device=None,\n",
       "                                              early_stopping_rounds=None,\n",
       "                                              enable_categorical=False,\n",
       "                                              eval_metric=None,\n",
       "                                              feature_types=None, gamma=None,\n",
       "                                              grow_policy=None,\n",
       "                                              importance_type=None,\n",
       "                                              interaction_constraints=None,\n",
       "                                              learning_rate=None, max_bin=None,\n",
       "                                              max_cat_threshold=None,\n",
       "                                              max_cat_to_onehot=None,\n",
       "                                              max_delta_step=None,\n",
       "                                              max_depth=None, max_leaves=None,\n",
       "                                              min_child_weight=None,\n",
       "                                              missing=nan,\n",
       "                                              monotone_constraints=None,\n",
       "                                              multi_strategy=None,\n",
       "                                              n_estimators=None, n_jobs=None,\n",
       "                                              num_parallel_tree=None,\n",
       "                                              random_state=None, ...))</pre></div></div></div><div class=\"sk-parallel\"><div class=\"sk-parallel-item\"><div class=\"sk-item\"><div class=\"sk-label-container\"><div class=\"sk-label sk-toggleable\"><input class=\"sk-toggleable__control sk-hidden--visually\" id=\"sk-estimator-id-2\" type=\"checkbox\" ><label for=\"sk-estimator-id-2\" class=\"sk-toggleable__label sk-toggleable__label-arrow\">estimator: XGBClassifier</label><div class=\"sk-toggleable__content\"><pre>XGBClassifier(base_score=None, booster=None, callbacks=None,\n",
       "              colsample_bylevel=None, colsample_bynode=None,\n",
       "              colsample_bytree=None, device=None, early_stopping_rounds=None,\n",
       "              enable_categorical=False, eval_metric=None, feature_types=None,\n",
       "              gamma=None, grow_policy=None, importance_type=None,\n",
       "              interaction_constraints=None, learning_rate=None, max_bin=None,\n",
       "              max_cat_threshold=None, max_cat_to_onehot=None,\n",
       "              max_delta_step=None, max_depth=None, max_leaves=None,\n",
       "              min_child_weight=None, missing=nan, monotone_constraints=None,\n",
       "              multi_strategy=None, n_estimators=None, n_jobs=None,\n",
       "              num_parallel_tree=None, random_state=None, ...)</pre></div></div></div><div class=\"sk-serial\"><div class=\"sk-item\"><div class=\"sk-estimator sk-toggleable\"><input class=\"sk-toggleable__control sk-hidden--visually\" id=\"sk-estimator-id-3\" type=\"checkbox\" ><label for=\"sk-estimator-id-3\" class=\"sk-toggleable__label sk-toggleable__label-arrow\">XGBClassifier</label><div class=\"sk-toggleable__content\"><pre>XGBClassifier(base_score=None, booster=None, callbacks=None,\n",
       "              colsample_bylevel=None, colsample_bynode=None,\n",
       "              colsample_bytree=None, device=None, early_stopping_rounds=None,\n",
       "              enable_categorical=False, eval_metric=None, feature_types=None,\n",
       "              gamma=None, grow_policy=None, importance_type=None,\n",
       "              interaction_constraints=None, learning_rate=None, max_bin=None,\n",
       "              max_cat_threshold=None, max_cat_to_onehot=None,\n",
       "              max_delta_step=None, max_depth=None, max_leaves=None,\n",
       "              min_child_weight=None, missing=nan, monotone_constraints=None,\n",
       "              multi_strategy=None, n_estimators=None, n_jobs=None,\n",
       "              num_parallel_tree=None, random_state=None, ...)</pre></div></div></div></div></div></div></div></div></div></div>"
      ],
      "text/plain": [
       "MultiOutputClassifier(estimator=XGBClassifier(base_score=None, booster=None,\n",
       "                                              callbacks=None,\n",
       "                                              colsample_bylevel=None,\n",
       "                                              colsample_bynode=None,\n",
       "                                              colsample_bytree=None,\n",
       "                                              device=None,\n",
       "                                              early_stopping_rounds=None,\n",
       "                                              enable_categorical=False,\n",
       "                                              eval_metric=None,\n",
       "                                              feature_types=None, gamma=None,\n",
       "                                              grow_policy=None,\n",
       "                                              importance_type=None,\n",
       "                                              interaction_constraints=None,\n",
       "                                              learning_rate=None, max_bin=None,\n",
       "                                              max_cat_threshold=None,\n",
       "                                              max_cat_to_onehot=None,\n",
       "                                              max_delta_step=None,\n",
       "                                              max_depth=None, max_leaves=None,\n",
       "                                              min_child_weight=None,\n",
       "                                              missing=nan,\n",
       "                                              monotone_constraints=None,\n",
       "                                              multi_strategy=None,\n",
       "                                              n_estimators=None, n_jobs=None,\n",
       "                                              num_parallel_tree=None,\n",
       "                                              random_state=None, ...))"
      ]
     },
     "execution_count": 47,
     "metadata": {},
     "output_type": "execute_result"
    }
   ],
   "source": [
    "#classifying multi-label data with multioutputclassifier & xgboost with default parameters\n",
    "xgboost_classifier = MultiOutputClassifier(estimator=XGBClassifier())\n",
    "xgboost_classifier.fit(X_train, y_train)"
   ]
  },
  {
   "cell_type": "code",
   "execution_count": 48,
   "id": "e6266c5e",
   "metadata": {
    "execution": {
     "iopub.execute_input": "2025-02-13T19:02:07.504646Z",
     "iopub.status.busy": "2025-02-13T19:02:07.504388Z",
     "iopub.status.idle": "2025-02-13T19:02:09.553055Z",
     "shell.execute_reply": "2025-02-13T19:02:09.552315Z"
    },
    "papermill": {
     "duration": 2.062391,
     "end_time": "2025-02-13T19:02:09.554900",
     "exception": false,
     "start_time": "2025-02-13T19:02:07.492509",
     "status": "completed"
    },
    "tags": []
   },
   "outputs": [],
   "source": [
    "y_train_pred = xgboost_classifier.predict(X_train)\n",
    "y_train_pred = pd.DataFrame(y_train_pred)"
   ]
  },
  {
   "cell_type": "code",
   "execution_count": 49,
   "id": "908f05f0",
   "metadata": {
    "execution": {
     "iopub.execute_input": "2025-02-13T19:02:09.581345Z",
     "iopub.status.busy": "2025-02-13T19:02:09.581101Z",
     "iopub.status.idle": "2025-02-13T19:02:10.343303Z",
     "shell.execute_reply": "2025-02-13T19:02:10.342548Z"
    },
    "papermill": {
     "duration": 0.776263,
     "end_time": "2025-02-13T19:02:10.345112",
     "exception": false,
     "start_time": "2025-02-13T19:02:09.568849",
     "status": "completed"
    },
    "tags": []
   },
   "outputs": [],
   "source": [
    "y_pred = xgboost_classifier.predict(X_test)\n",
    "y_pred = pd.DataFrame(y_pred)"
   ]
  },
  {
   "cell_type": "code",
   "execution_count": 50,
   "id": "5d2ed99d",
   "metadata": {
    "execution": {
     "iopub.execute_input": "2025-02-13T19:02:10.372293Z",
     "iopub.status.busy": "2025-02-13T19:02:10.371965Z",
     "iopub.status.idle": "2025-02-13T19:02:11.198333Z",
     "shell.execute_reply": "2025-02-13T19:02:11.197089Z"
    },
    "papermill": {
     "duration": 0.840103,
     "end_time": "2025-02-13T19:02:11.199776",
     "exception": false,
     "start_time": "2025-02-13T19:02:10.359673",
     "status": "completed"
    },
    "tags": []
   },
   "outputs": [
    {
     "name": "stdout",
     "output_type": "stream",
     "text": [
      "Overall train_accuracy across all products:  0.983\n",
      "Overall train_precision across all products:  0.965\n"
     ]
    }
   ],
   "source": [
    "#compute accuracy+precision metrics on training set --> for data scientists \n",
    "#lets create a df to see how well the model performs for each class = product \n",
    "scores = pd.DataFrame(columns = ['Product','Accuracy','Precision'])\n",
    "scores[\"Product\"] = products\n",
    "\n",
    "for i in range(22):\n",
    "  scores[\"Precision\"][i] = precision_score(y_train.iloc[:,i],y_train_pred.iloc[:,i])\n",
    "\n",
    "for i in range(22):\n",
    "  scores[\"Accuracy\"][i] = accuracy_score(y_train.iloc[:,i],y_train_pred.iloc[:,i])\n",
    "\n",
    "#scores\n",
    "\n",
    "#overall\n",
    "print(\"Overall train_accuracy across all products: \", scores.Accuracy.mean().round(3))\n",
    "print(\"Overall train_precision across all products: \", scores.Precision.mean().round(3))"
   ]
  },
  {
   "cell_type": "code",
   "execution_count": 51,
   "id": "63fc0a23",
   "metadata": {
    "execution": {
     "iopub.execute_input": "2025-02-13T19:02:11.223412Z",
     "iopub.status.busy": "2025-02-13T19:02:11.223175Z",
     "iopub.status.idle": "2025-02-13T19:02:11.299955Z",
     "shell.execute_reply": "2025-02-13T19:02:11.298625Z"
    },
    "papermill": {
     "duration": 0.090146,
     "end_time": "2025-02-13T19:02:11.301560",
     "exception": false,
     "start_time": "2025-02-13T19:02:11.211414",
     "status": "completed"
    },
    "tags": []
   },
   "outputs": [
    {
     "name": "stdout",
     "output_type": "stream",
     "text": [
      "                   precision    recall  f1-score   support\n",
      "\n",
      " ind_cco_fin_ult1       0.85      0.87      0.86      2592\n",
      "ind_cder_fin_ult1       1.00      0.12      0.22         8\n",
      " ind_cno_fin_ult1       0.85      0.54      0.66      1712\n",
      "ind_ctju_fin_ult1       1.00      0.93      0.97        15\n",
      "ind_ctma_fin_ult1       0.50      0.11      0.18       160\n",
      "ind_ctop_fin_ult1       0.68      0.43      0.53       190\n",
      "ind_ctpp_fin_ult1       0.80      0.37      0.50        98\n",
      "ind_deco_fin_ult1       0.51      0.29      0.37       109\n",
      "ind_deme_fin_ult1       0.00      0.00      0.00        13\n",
      "ind_dela_fin_ult1       0.53      0.17      0.26       582\n",
      "ind_ecue_fin_ult1       0.81      0.54      0.65      1185\n",
      "ind_fond_fin_ult1       0.30      0.05      0.08       177\n",
      " ind_hip_fin_ult1       0.00      0.00      0.00         4\n",
      "ind_plan_fin_ult1       0.00      0.00      0.00        17\n",
      "ind_pres_fin_ult1       1.00      0.33      0.50         9\n",
      "ind_reca_fin_ult1       0.68      0.12      0.20       435\n",
      "ind_tjcr_fin_ult1       0.84      0.72      0.78      3201\n",
      "ind_valo_fin_ult1       0.81      0.23      0.36       230\n",
      " ind_viv_fin_ult1       1.00      0.20      0.33         5\n",
      "  ind_nomina_ult1       0.85      0.66      0.75      3399\n",
      "ind_nom_pens_ult1       0.87      0.71      0.78      3960\n",
      "  ind_recibo_ult1       0.82      0.85      0.83      6938\n",
      "\n",
      "        micro avg       0.83      0.70      0.76     25039\n",
      "        macro avg       0.67      0.38      0.45     25039\n",
      "     weighted avg       0.82      0.70      0.74     25039\n",
      "      samples avg       0.74      0.74      0.73     25039\n",
      "\n"
     ]
    }
   ],
   "source": [
    "#as info for data scientists only \n",
    "from sklearn.metrics import classification_report\n",
    "print(classification_report(y_test, y_pred, target_names = products))"
   ]
  },
  {
   "cell_type": "code",
   "execution_count": null,
   "id": "36a40aaf",
   "metadata": {
    "papermill": {
     "duration": 0.011098,
     "end_time": "2025-02-13T19:02:11.324133",
     "exception": false,
     "start_time": "2025-02-13T19:02:11.313035",
     "status": "completed"
    },
    "tags": []
   },
   "outputs": [],
   "source": []
  },
  {
   "cell_type": "code",
   "execution_count": null,
   "id": "8e132347",
   "metadata": {},
   "outputs": [],
   "source": [
    "def average_precision_at_k(y_true, y_pred, k=10):\n",
    "    \"\"\"\n",
    "    Tính AP@K (Average Precision at K)\n",
    "    \n",
    "    Parameters:\n",
    "    - y_true: Danh sách các labels thực tế (1: relevant, 0: not relevant)\n",
    "    - y_pred: Danh sách dự đoán được sắp xếp theo độ liên quan giảm dần\n",
    "    - k: Top-K được xét đến\n",
    "    \n",
    "    Returns:\n",
    "    - AP@K score\n",
    "    \"\"\"\n",
    "    if len(y_pred) > k:\n",
    "        y_pred = y_pred[:k]\n",
    "\n",
    "    num_relevant = 0\n",
    "    score = 0.0\n",
    "\n",
    "    for i, pred in enumerate(y_pred):\n",
    "        if pred in y_true:\n",
    "            num_relevant += 1\n",
    "            score += num_relevant / (i + 1)\n",
    "\n",
    "    return score / min(len(y_true), k) if y_true else 0.0\n",
    "\n",
    "def mean_average_precision_at_k(y_true_list, y_pred_list, k=10):\n",
    "    \"\"\"\n",
    "    Tính MAP@K (Mean Average Precision at K)\n",
    "    \n",
    "    Parameters:\n",
    "    - y_true_list: Danh sách danh sách các labels thực tế cho mỗi truy vấn\n",
    "    - y_pred_list: Danh sách danh sách dự đoán sắp xếp theo độ liên quan\n",
    "    - k: Top-K được xét đến\n",
    "    \n",
    "    Returns:\n",
    "    - MAP@K score\n",
    "    \"\"\"\n",
    "    ap_scores = [average_precision_at_k(y_true, y_pred, k) for y_true, y_pred in zip(y_true_list, y_pred_list)]\n",
    "    return sum(ap_scores) / len(ap_scores) if ap_scores else 0.0\n",
    "\n",
    "# Ví dụ sử dụng:\n",
    "y_true_example = [[1, 2, 3], [2, 4]]\n",
    "y_pred_example = [[1, 3, 5, 2], [4, 2, 3, 1]]\n",
    "\n",
    "map_score = mean_average_precision_at_k(y_true_example, y_pred_example, k=3)\n",
    "print(f\"MAP@3: {map_score:.4f}\")\n"
   ]
  }
 ],
 "metadata": {
  "kaggle": {
   "accelerator": "nvidiaTeslaT4",
   "dataSources": [
    {
     "datasetId": 6644639,
     "sourceId": 10719567,
     "sourceType": "datasetVersion"
    },
    {
     "datasetId": 6645561,
     "sourceId": 10720763,
     "sourceType": "datasetVersion"
    }
   ],
   "dockerImageVersionId": 30886,
   "isGpuEnabled": true,
   "isInternetEnabled": true,
   "language": "python",
   "sourceType": "notebook"
  },
  "kernelspec": {
   "display_name": "Python 3",
   "language": "python",
   "name": "python3"
  },
  "language_info": {
   "codemirror_mode": {
    "name": "ipython",
    "version": 3
   },
   "file_extension": ".py",
   "mimetype": "text/x-python",
   "name": "python",
   "nbconvert_exporter": "python",
   "pygments_lexer": "ipython3",
   "version": "3.10.12"
  },
  "papermill": {
   "default_parameters": {},
   "duration": 239.503359,
   "end_time": "2025-02-13T19:02:12.555943",
   "environment_variables": {},
   "exception": null,
   "input_path": "__notebook__.ipynb",
   "output_path": "__notebook__.ipynb",
   "parameters": {},
   "start_time": "2025-02-13T18:58:13.052584",
   "version": "2.6.0"
  }
 },
 "nbformat": 4,
 "nbformat_minor": 5
}
